{
 "cells": [
  {
   "cell_type": "code",
   "execution_count": 6,
   "id": "nonprofit-spider",
   "metadata": {},
   "outputs": [],
   "source": [
    "from pymongo import MongoClient\n",
    "import matplotlib.pyplot as plt\n",
    "import os\n",
    "from sshtunnel import SSHTunnelForwarder\n",
    "import numpy as np\n",
    "import pandas as pd\n",
    "import networkx as nx"
   ]
  },
  {
   "cell_type": "code",
   "execution_count": 2,
   "id": "addressed-ethics",
   "metadata": {},
   "outputs": [],
   "source": [
    "MONGO_HOST = \"193.196.55.231\"\n",
    "MONGO_DB = \"twitter_db_DE\"\n",
    "\n",
    "server = SSHTunnelForwarder(\n",
    "    MONGO_HOST,\n",
    "    ssh_username=\"ubuntu\",\n",
    "    ssh_pkey=\"/home/tobias/.ssh/ghost_id_rsa\",\n",
    "    remote_bind_address=('127.0.0.1', 27017)\n",
    ")\n",
    "\n",
    "server.start()\n",
    "\n",
    "client = MongoClient('127.0.0.1', server.local_bind_port) # server.local_bind_port is assigned local port\n",
    "db = client[MONGO_DB]\n"
   ]
  },
  {
   "cell_type": "code",
   "execution_count": 29,
   "id": "color-reunion",
   "metadata": {},
   "outputs": [],
   "source": [
    "data = db.cc_follows.find({}, {\"id\": 1, \"following\" : 1, \"followed_by\": 1, \"seed\":1, \"username\" : 1})\n",
    "df = pd.DataFrame(list(data))\n"
   ]
  },
  {
   "cell_type": "code",
   "execution_count": 30,
   "id": "usual-monaco",
   "metadata": {},
   "outputs": [
    {
     "data": {
      "text/html": [
       "<div>\n",
       "<style scoped>\n",
       "    .dataframe tbody tr th:only-of-type {\n",
       "        vertical-align: middle;\n",
       "    }\n",
       "\n",
       "    .dataframe tbody tr th {\n",
       "        vertical-align: top;\n",
       "    }\n",
       "\n",
       "    .dataframe thead th {\n",
       "        text-align: right;\n",
       "    }\n",
       "</style>\n",
       "<table border=\"1\" class=\"dataframe\">\n",
       "  <thead>\n",
       "    <tr style=\"text-align: right;\">\n",
       "      <th></th>\n",
       "      <th>_id</th>\n",
       "      <th>id</th>\n",
       "      <th>username</th>\n",
       "      <th>seed</th>\n",
       "      <th>following</th>\n",
       "      <th>followed_by</th>\n",
       "    </tr>\n",
       "  </thead>\n",
       "  <tbody>\n",
       "    <tr>\n",
       "      <th>0</th>\n",
       "      <td>61bc94b7b89585883e4d463d</td>\n",
       "      <td>818876014390603776</td>\n",
       "      <td>FLOTUS45</td>\n",
       "      <td>1466829037645582341</td>\n",
       "      <td>[]</td>\n",
       "      <td>[1183975422863773696, 757578754210267136, 1281...</td>\n",
       "    </tr>\n",
       "    <tr>\n",
       "      <th>1</th>\n",
       "      <td>61bc94b7b89585883e4d463e</td>\n",
       "      <td>1212806053907185664</td>\n",
       "      <td>TheLeoTerrell</td>\n",
       "      <td>1466829037645582341</td>\n",
       "      <td>[]</td>\n",
       "      <td>[933167783931768832, 69891324, 46979679, 48347...</td>\n",
       "    </tr>\n",
       "    <tr>\n",
       "      <th>2</th>\n",
       "      <td>61bc94b7b89585883e4d463f</td>\n",
       "      <td>296508855</td>\n",
       "      <td>WegeInsLeben</td>\n",
       "      <td>1466829037645582341</td>\n",
       "      <td>[933167783931768832, 2460335661, 251657704, 14...</td>\n",
       "      <td>[933167783931768832, 2460335661, 1337349377300...</td>\n",
       "    </tr>\n",
       "    <tr>\n",
       "      <th>3</th>\n",
       "      <td>61bc94b7b89585883e4d4640</td>\n",
       "      <td>2913614824</td>\n",
       "      <td>BVG_Kampagne</td>\n",
       "      <td>1466829037645582341</td>\n",
       "      <td>[493146582, 3083343255, 571984571, 22951215]</td>\n",
       "      <td>[1180966443963310081, 1280110927283699712, 758...</td>\n",
       "    </tr>\n",
       "    <tr>\n",
       "      <th>4</th>\n",
       "      <td>61bc94b7b89585883e4d4641</td>\n",
       "      <td>1431512692943171586</td>\n",
       "      <td>Melanie03970811</td>\n",
       "      <td>1466829037645582341</td>\n",
       "      <td>[1434129791859535872]</td>\n",
       "      <td>[1434129791859535872]</td>\n",
       "    </tr>\n",
       "    <tr>\n",
       "      <th>...</th>\n",
       "      <td>...</td>\n",
       "      <td>...</td>\n",
       "      <td>...</td>\n",
       "      <td>...</td>\n",
       "      <td>...</td>\n",
       "      <td>...</td>\n",
       "    </tr>\n",
       "    <tr>\n",
       "      <th>1084427</th>\n",
       "      <td>61cefe6c07664d890bef458e</td>\n",
       "      <td>1322793684207808514</td>\n",
       "      <td>Stefan43741005</td>\n",
       "      <td>1466829037645582341</td>\n",
       "      <td>[]</td>\n",
       "      <td>[296714530]</td>\n",
       "    </tr>\n",
       "    <tr>\n",
       "      <th>1084428</th>\n",
       "      <td>61cefe6c07664d890bef458d</td>\n",
       "      <td>1308844459833122817</td>\n",
       "      <td>Kinkylitzchen</td>\n",
       "      <td>1466829037645582341</td>\n",
       "      <td>[2406535248]</td>\n",
       "      <td>[2406535248]</td>\n",
       "    </tr>\n",
       "    <tr>\n",
       "      <th>1084429</th>\n",
       "      <td>61cefe6c07664d890bef4590</td>\n",
       "      <td>23765046</td>\n",
       "      <td>Apisticus</td>\n",
       "      <td>1466829037645582341</td>\n",
       "      <td>[]</td>\n",
       "      <td>[1095718526323691520]</td>\n",
       "    </tr>\n",
       "    <tr>\n",
       "      <th>1084430</th>\n",
       "      <td>61cefe6c07664d890bef4591</td>\n",
       "      <td>844196171266560000</td>\n",
       "      <td>FrohlichHorst</td>\n",
       "      <td>1466829037645582341</td>\n",
       "      <td>[296714530]</td>\n",
       "      <td>[]</td>\n",
       "    </tr>\n",
       "    <tr>\n",
       "      <th>1084431</th>\n",
       "      <td>61cefe8507664d890bef4592</td>\n",
       "      <td>285665125</td>\n",
       "      <td>ARROWOFTRUTH116</td>\n",
       "      <td>1466829037645582341</td>\n",
       "      <td>[1387215199]</td>\n",
       "      <td>[1387215199]</td>\n",
       "    </tr>\n",
       "  </tbody>\n",
       "</table>\n",
       "<p>1084432 rows × 6 columns</p>\n",
       "</div>"
      ],
      "text/plain": [
       "                              _id                   id         username  \\\n",
       "0        61bc94b7b89585883e4d463d   818876014390603776         FLOTUS45   \n",
       "1        61bc94b7b89585883e4d463e  1212806053907185664    TheLeoTerrell   \n",
       "2        61bc94b7b89585883e4d463f            296508855     WegeInsLeben   \n",
       "3        61bc94b7b89585883e4d4640           2913614824     BVG_Kampagne   \n",
       "4        61bc94b7b89585883e4d4641  1431512692943171586  Melanie03970811   \n",
       "...                           ...                  ...              ...   \n",
       "1084427  61cefe6c07664d890bef458e  1322793684207808514   Stefan43741005   \n",
       "1084428  61cefe6c07664d890bef458d  1308844459833122817    Kinkylitzchen   \n",
       "1084429  61cefe6c07664d890bef4590             23765046        Apisticus   \n",
       "1084430  61cefe6c07664d890bef4591   844196171266560000    FrohlichHorst   \n",
       "1084431  61cefe8507664d890bef4592            285665125  ARROWOFTRUTH116   \n",
       "\n",
       "                        seed  \\\n",
       "0        1466829037645582341   \n",
       "1        1466829037645582341   \n",
       "2        1466829037645582341   \n",
       "3        1466829037645582341   \n",
       "4        1466829037645582341   \n",
       "...                      ...   \n",
       "1084427  1466829037645582341   \n",
       "1084428  1466829037645582341   \n",
       "1084429  1466829037645582341   \n",
       "1084430  1466829037645582341   \n",
       "1084431  1466829037645582341   \n",
       "\n",
       "                                                 following  \\\n",
       "0                                                       []   \n",
       "1                                                       []   \n",
       "2        [933167783931768832, 2460335661, 251657704, 14...   \n",
       "3             [493146582, 3083343255, 571984571, 22951215]   \n",
       "4                                    [1434129791859535872]   \n",
       "...                                                    ...   \n",
       "1084427                                                 []   \n",
       "1084428                                       [2406535248]   \n",
       "1084429                                                 []   \n",
       "1084430                                        [296714530]   \n",
       "1084431                                       [1387215199]   \n",
       "\n",
       "                                               followed_by  \n",
       "0        [1183975422863773696, 757578754210267136, 1281...  \n",
       "1        [933167783931768832, 69891324, 46979679, 48347...  \n",
       "2        [933167783931768832, 2460335661, 1337349377300...  \n",
       "3        [1180966443963310081, 1280110927283699712, 758...  \n",
       "4                                    [1434129791859535872]  \n",
       "...                                                    ...  \n",
       "1084427                                        [296714530]  \n",
       "1084428                                       [2406535248]  \n",
       "1084429                              [1095718526323691520]  \n",
       "1084430                                                 []  \n",
       "1084431                                       [1387215199]  \n",
       "\n",
       "[1084432 rows x 6 columns]"
      ]
     },
     "execution_count": 30,
     "metadata": {},
     "output_type": "execute_result"
    }
   ],
   "source": [
    "df"
   ]
  },
  {
   "cell_type": "code",
   "execution_count": 67,
   "id": "elementary-samoa",
   "metadata": {},
   "outputs": [],
   "source": [
    "G = nx.DiGraph()"
   ]
  },
  {
   "cell_type": "code",
   "execution_count": 53,
   "id": "private-toner",
   "metadata": {
    "scrolled": true
   },
   "outputs": [
    {
     "name": "stdout",
     "output_type": "stream",
     "text": [
      "0\n",
      "25000\n",
      "50000\n",
      "75000\n",
      "100000\n",
      "125000\n",
      "150000\n",
      "175000\n",
      "200000\n",
      "225000\n",
      "250000\n",
      "275000\n",
      "300000\n",
      "325000\n",
      "350000\n",
      "375000\n",
      "400000\n",
      "425000\n",
      "450000\n",
      "475000\n",
      "500000\n",
      "525000\n",
      "550000\n",
      "575000\n",
      "600000\n",
      "625000\n",
      "650000\n",
      "675000\n",
      "700000\n",
      "725000\n",
      "750000\n",
      "775000\n",
      "800000\n",
      "825000\n",
      "850000\n",
      "875000\n",
      "900000\n",
      "925000\n",
      "950000\n",
      "975000\n",
      "1000000\n",
      "1025000\n",
      "1050000\n",
      "1075000\n"
     ]
    }
   ],
   "source": [
    "edge_dict = {}\n",
    "for index, row in df.iterrows():\n",
    "    if index % 25000 == 0:\n",
    "        print(index)\n",
    "    for elem in row[\"following\"]:\n",
    "        G.add_edge(row[\"id\"], elem, seed=row[\"seed\"], username=row[\"username\"])\n",
    "        G.nodes[row[\"id\"]]['seed'] = row[\"seed\"]\n",
    "        G.nodes[row[\"id\"]]['username'] = row[\"username\"]\n",
    "    for elem in row[\"followed_by\"]:\n",
    "        G.add_edge(elem, row[\"id\"], seed=row[\"seed\"], username=row[\"username\"])\n",
    "        G.nodes[row[\"id\"]]['seed'] = row[\"seed\"]\n",
    "        G.nodes[row[\"id\"]]['username'] = row[\"username\"]"
   ]
  },
  {
   "cell_type": "code",
   "execution_count": 68,
   "id": "prompt-journey",
   "metadata": {},
   "outputs": [
    {
     "name": "stdout",
     "output_type": "stream",
     "text": [
      "0\n",
      "25000\n",
      "50000\n",
      "75000\n",
      "100000\n",
      "125000\n",
      "150000\n",
      "175000\n",
      "200000\n",
      "225000\n",
      "250000\n",
      "275000\n",
      "300000\n",
      "325000\n",
      "350000\n",
      "375000\n",
      "400000\n",
      "425000\n",
      "450000\n",
      "475000\n",
      "500000\n",
      "525000\n",
      "550000\n",
      "575000\n",
      "600000\n",
      "625000\n",
      "650000\n",
      "675000\n",
      "700000\n",
      "725000\n",
      "750000\n",
      "775000\n",
      "800000\n",
      "825000\n",
      "850000\n",
      "875000\n",
      "900000\n",
      "925000\n",
      "950000\n",
      "975000\n",
      "1000000\n",
      "1025000\n",
      "1050000\n",
      "1075000\n"
     ]
    }
   ],
   "source": [
    "edge_dict = {}\n",
    "for index, row in df.iterrows():\n",
    "    if index % 25000 == 0:\n",
    "        print(index)\n",
    "    for elem in row[\"following\"]:\n",
    "        G.add_edge(row[\"id\"], elem, seed=row[\"seed\"], username=row[\"username\"])\n",
    "        G.nodes[row[\"id\"]]['seed'] = row[\"seed\"]\n",
    "        G.nodes[row[\"id\"]]['username'] = row[\"username\"]"
   ]
  },
  {
   "cell_type": "code",
   "execution_count": 80,
   "id": "individual-vatican",
   "metadata": {},
   "outputs": [
    {
     "name": "stdout",
     "output_type": "stream",
     "text": [
      "['296508855', '933167783931768832', '2460335661', '251657704', '1416633163363856389', '570350814', '1305169119076114432', '1212741761509908480', '1261347536218005505', '1240306312434647043']\n"
     ]
    }
   ],
   "source": [
    "print(list(G.nodes)[:10])"
   ]
  },
  {
   "cell_type": "code",
   "execution_count": 100,
   "id": "accepting-packet",
   "metadata": {},
   "outputs": [
    {
     "data": {
      "text/plain": [
       "{'seed': '1466829037645582341', 'username': 'JohannesNormann'}"
      ]
     },
     "execution_count": 100,
     "metadata": {},
     "output_type": "execute_result"
    }
   ],
   "source": [
    "\n",
    "G.nodes[\"472447110\"]"
   ]
  },
  {
   "cell_type": "code",
   "execution_count": 84,
   "id": "mounted-auction",
   "metadata": {},
   "outputs": [
    {
     "data": {
      "text/html": [
       "<div>\n",
       "<style scoped>\n",
       "    .dataframe tbody tr th:only-of-type {\n",
       "        vertical-align: middle;\n",
       "    }\n",
       "\n",
       "    .dataframe tbody tr th {\n",
       "        vertical-align: top;\n",
       "    }\n",
       "\n",
       "    .dataframe thead th {\n",
       "        text-align: right;\n",
       "    }\n",
       "</style>\n",
       "<table border=\"1\" class=\"dataframe\">\n",
       "  <thead>\n",
       "    <tr style=\"text-align: right;\">\n",
       "      <th></th>\n",
       "      <th>id</th>\n",
       "      <th>degree</th>\n",
       "    </tr>\n",
       "  </thead>\n",
       "  <tbody>\n",
       "    <tr>\n",
       "      <th>0</th>\n",
       "      <td>1132688391357837314</td>\n",
       "      <td>1923</td>\n",
       "    </tr>\n",
       "    <tr>\n",
       "      <th>1</th>\n",
       "      <td>1097754070570491906</td>\n",
       "      <td>1570</td>\n",
       "    </tr>\n",
       "    <tr>\n",
       "      <th>2</th>\n",
       "      <td>472447110</td>\n",
       "      <td>1385</td>\n",
       "    </tr>\n",
       "    <tr>\n",
       "      <th>3</th>\n",
       "      <td>1248887845030432768</td>\n",
       "      <td>1366</td>\n",
       "    </tr>\n",
       "    <tr>\n",
       "      <th>4</th>\n",
       "      <td>886701763407093760</td>\n",
       "      <td>1347</td>\n",
       "    </tr>\n",
       "  </tbody>\n",
       "</table>\n",
       "</div>"
      ],
      "text/plain": [
       "                    id  degree\n",
       "0  1132688391357837314    1923\n",
       "1  1097754070570491906    1570\n",
       "2            472447110    1385\n",
       "3  1248887845030432768    1366\n",
       "4   886701763407093760    1347"
      ]
     },
     "execution_count": 84,
     "metadata": {},
     "output_type": "execute_result"
    }
   ],
   "source": [
    "G_sorted = pd.DataFrame(sorted(G.in_degree, key=lambda x: x[1], reverse=True))\n",
    "G_sorted.columns = [\"id\",\"degree\"]\n",
    "G_sorted.head()"
   ]
  },
  {
   "cell_type": "code",
   "execution_count": 91,
   "id": "extreme-milwaukee",
   "metadata": {},
   "outputs": [
    {
     "data": {
      "text/plain": [
       "'DiGraph with 718662 nodes and 2405097 edges'"
      ]
     },
     "execution_count": 91,
     "metadata": {},
     "output_type": "execute_result"
    }
   ],
   "source": [
    "nx.info(G)"
   ]
  },
  {
   "cell_type": "code",
   "execution_count": null,
   "id": "threaded-plymouth",
   "metadata": {},
   "outputs": [],
   "source": []
  },
  {
   "cell_type": "code",
   "execution_count": 99,
   "id": "negative-airplane",
   "metadata": {},
   "outputs": [],
   "source": [
    "import random\n",
    "k = 10000\n",
    "sampled_nodes = random.sample(G.nodes, k)\n",
    "sampled_graph = G.subgraph(sampled_nodes)\n",
    "nx.info(sampled_graph)\n",
    "nx.write_gexf(sampled_graph, \"test_smallest.gexf\")"
   ]
  },
  {
   "cell_type": "code",
   "execution_count": null,
   "id": "optional-portugal",
   "metadata": {},
   "outputs": [],
   "source": []
  },
  {
   "cell_type": "code",
   "execution_count": 59,
   "id": "ecological-correlation",
   "metadata": {},
   "outputs": [],
   "source": [
    "G_tmp = nx.k_core(G, 200) "
   ]
  },
  {
   "cell_type": "code",
   "execution_count": 60,
   "id": "herbal-stupid",
   "metadata": {},
   "outputs": [
    {
     "data": {
      "text/plain": [
       "'DiGraph with 3512 nodes and 808190 edges'"
      ]
     },
     "execution_count": 60,
     "metadata": {},
     "output_type": "execute_result"
    }
   ],
   "source": [
    "nx.info(G_tmp)"
   ]
  },
  {
   "cell_type": "code",
   "execution_count": 61,
   "id": "returning-radar",
   "metadata": {},
   "outputs": [],
   "source": [
    "nx.write_gexf(G_tmp, \"test_small.gexf\")"
   ]
  },
  {
   "cell_type": "code",
   "execution_count": null,
   "id": "confident-ivory",
   "metadata": {},
   "outputs": [],
   "source": []
  }
 ],
 "metadata": {
  "kernelspec": {
   "display_name": "Python 3",
   "language": "python",
   "name": "python3"
  },
  "language_info": {
   "codemirror_mode": {
    "name": "ipython",
    "version": 3
   },
   "file_extension": ".py",
   "mimetype": "text/x-python",
   "name": "python",
   "nbconvert_exporter": "python",
   "pygments_lexer": "ipython3",
   "version": "3.8.10"
  }
 },
 "nbformat": 4,
 "nbformat_minor": 5
}
