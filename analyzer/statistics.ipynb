{
 "cells": [
  {
   "cell_type": "code",
   "execution_count": 25,
   "id": "flush-prior",
   "metadata": {},
   "outputs": [
    {
     "name": "stdout",
     "output_type": "stream",
     "text": [
      "/usr/lib/python3/dist-packages/secretstorage/dhcrypto.py:15: CryptographyDeprecationWarning: int_from_bytes is deprecated, use int.from_bytes instead\n",
      "  from cryptography.utils import int_from_bytes\n",
      "/usr/lib/python3/dist-packages/secretstorage/util.py:19: CryptographyDeprecationWarning: int_from_bytes is deprecated, use int.from_bytes instead\n",
      "  from cryptography.utils import int_from_bytes\n",
      "Defaulting to user installation because normal site-packages is not writeable\n",
      "Collecting sshtunnel\n",
      "  Downloading sshtunnel-0.4.0-py2.py3-none-any.whl (24 kB)\n",
      "Collecting paramiko>=2.7.2\n",
      "  Downloading paramiko-2.9.2-py2.py3-none-any.whl (210 kB)\n",
      "\u001b[K     |████████████████████████████████| 210 kB 2.9 MB/s eta 0:00:01\n",
      "\u001b[?25hRequirement already satisfied: pynacl>=1.0.1 in /usr/lib/python3/dist-packages (from paramiko>=2.7.2->sshtunnel) (1.3.0)\n",
      "Requirement already satisfied: bcrypt>=3.1.3 in /usr/lib/python3/dist-packages (from paramiko>=2.7.2->sshtunnel) (3.1.7)\n",
      "Requirement already satisfied: cryptography>=2.5 in /home/tobias/.local/lib/python3.8/site-packages (from paramiko>=2.7.2->sshtunnel) (3.4.7)\n",
      "Requirement already satisfied: cffi>=1.12 in /usr/local/lib/python3.8/dist-packages (from cryptography>=2.5->paramiko>=2.7.2->sshtunnel) (1.14.4)\n",
      "Requirement already satisfied: pycparser in /usr/local/lib/python3.8/dist-packages (from cffi>=1.12->cryptography>=2.5->paramiko>=2.7.2->sshtunnel) (2.20)\n",
      "Installing collected packages: paramiko, sshtunnel\n",
      "Successfully installed paramiko-2.9.2 sshtunnel-0.4.0\n",
      "\u001b[33mWARNING: You are using pip version 20.3.3; however, version 21.3.1 is available.\n",
      "You should consider upgrading via the '/usr/bin/python3.8 -m pip install --upgrade pip' command.\u001b[0m\n"
     ]
    }
   ],
   "source": [
    "!pip install sshtunnel"
   ]
  },
  {
   "cell_type": "code",
   "execution_count": 42,
   "id": "other-lighting",
   "metadata": {},
   "outputs": [],
   "source": [
    "from pymongo import MongoClient\n",
    "import matplotlib.pyplot as plt\n",
    "import os\n",
    "from sshtunnel import SSHTunnelForwarder\n",
    "import numpy as np\n",
    "import pandas as pd"
   ]
  },
  {
   "cell_type": "code",
   "execution_count": 2,
   "id": "driven-dependence",
   "metadata": {},
   "outputs": [],
   "source": [
    "MONGO_HOST = \"193.196.55.231\"\n",
    "MONGO_DB = \"twitter_db\"\n",
    "\n",
    "server = SSHTunnelForwarder(\n",
    "    MONGO_HOST,\n",
    "    ssh_username=\"ubuntu\",\n",
    "    ssh_pkey=\"/home/tobias/.ssh/ghost_id_rsa\",\n",
    "    remote_bind_address=('127.0.0.1', 27017)\n",
    ")\n",
    "\n",
    "server.start()\n",
    "\n",
    "client = MongoClient('127.0.0.1', server.local_bind_port) # server.local_bind_port is assigned local port\n",
    "db = client[MONGO_DB]\n"
   ]
  },
  {
   "cell_type": "code",
   "execution_count": 118,
   "id": "interior-caribbean",
   "metadata": {},
   "outputs": [],
   "source": [
    "cleaned_metric = []\n",
    "public_metrics = db.cc_users.find({}, {\"public_metrics.followers_count\": 1, \"public_metrics.following_count\": 1, \"public_metrics.tweet_count\": 1, \"id\": 1, \"username\": 1, \"verified\" : 1})\n",
    "for metric in public_metrics:\n",
    "    if \"public_metrics\" in metric:\n",
    "        cleaned_metric.append([metric[\"id\"], metric[\"username\"], metric[\"public_metrics\"][\"followers_count\"], metric[\"public_metrics\"][\"following_count\"], metric[\"public_metrics\"][\"tweet_count\"], metric[\"verified\"]])\n",
    "df = pd.DataFrame(list(cleaned_metric))\n",
    "df = df.rename(columns={0: \"id\", 1: \"username\", 2: \"followers_count\", 3: \"following_count\", 4: \"tweet_count\", 5: \"verified\"})"
   ]
  },
  {
   "cell_type": "code",
   "execution_count": 119,
   "id": "minor-investigation",
   "metadata": {},
   "outputs": [
    {
     "data": {
      "text/html": [
       "<div>\n",
       "<style scoped>\n",
       "    .dataframe tbody tr th:only-of-type {\n",
       "        vertical-align: middle;\n",
       "    }\n",
       "\n",
       "    .dataframe tbody tr th {\n",
       "        vertical-align: top;\n",
       "    }\n",
       "\n",
       "    .dataframe thead th {\n",
       "        text-align: right;\n",
       "    }\n",
       "</style>\n",
       "<table border=\"1\" class=\"dataframe\">\n",
       "  <thead>\n",
       "    <tr style=\"text-align: right;\">\n",
       "      <th></th>\n",
       "      <th>id</th>\n",
       "      <th>username</th>\n",
       "      <th>followers_count</th>\n",
       "      <th>following_count</th>\n",
       "      <th>tweet_count</th>\n",
       "      <th>verified</th>\n",
       "    </tr>\n",
       "  </thead>\n",
       "  <tbody>\n",
       "    <tr>\n",
       "      <th>0</th>\n",
       "      <td>46671731</td>\n",
       "      <td>ginacarano</td>\n",
       "      <td>985121</td>\n",
       "      <td>1026</td>\n",
       "      <td>4455</td>\n",
       "      <td>True</td>\n",
       "    </tr>\n",
       "    <tr>\n",
       "      <th>1</th>\n",
       "      <td>1239941259571101697</td>\n",
       "      <td>ZoeNichols155</td>\n",
       "      <td>47</td>\n",
       "      <td>85</td>\n",
       "      <td>4470</td>\n",
       "      <td>False</td>\n",
       "    </tr>\n",
       "    <tr>\n",
       "      <th>2</th>\n",
       "      <td>2701583718</td>\n",
       "      <td>michaelolds0</td>\n",
       "      <td>4</td>\n",
       "      <td>30</td>\n",
       "      <td>15</td>\n",
       "      <td>False</td>\n",
       "    </tr>\n",
       "    <tr>\n",
       "      <th>3</th>\n",
       "      <td>868993857433858048</td>\n",
       "      <td>Melissa72272061</td>\n",
       "      <td>184</td>\n",
       "      <td>228</td>\n",
       "      <td>29727</td>\n",
       "      <td>False</td>\n",
       "    </tr>\n",
       "    <tr>\n",
       "      <th>4</th>\n",
       "      <td>1377392363249672194</td>\n",
       "      <td>BorgesJoey</td>\n",
       "      <td>4</td>\n",
       "      <td>13</td>\n",
       "      <td>343</td>\n",
       "      <td>False</td>\n",
       "    </tr>\n",
       "    <tr>\n",
       "      <th>...</th>\n",
       "      <td>...</td>\n",
       "      <td>...</td>\n",
       "      <td>...</td>\n",
       "      <td>...</td>\n",
       "      <td>...</td>\n",
       "      <td>...</td>\n",
       "    </tr>\n",
       "    <tr>\n",
       "      <th>134899</th>\n",
       "      <td>36588590</td>\n",
       "      <td>msvespa</td>\n",
       "      <td>38257</td>\n",
       "      <td>42072</td>\n",
       "      <td>46693</td>\n",
       "      <td>False</td>\n",
       "    </tr>\n",
       "    <tr>\n",
       "      <th>134900</th>\n",
       "      <td>1200667488448655360</td>\n",
       "      <td>ALittIeLife_</td>\n",
       "      <td>312</td>\n",
       "      <td>299</td>\n",
       "      <td>8288</td>\n",
       "      <td>False</td>\n",
       "    </tr>\n",
       "    <tr>\n",
       "      <th>134901</th>\n",
       "      <td>842402820783525890</td>\n",
       "      <td>BradleyMcGuinn2</td>\n",
       "      <td>74</td>\n",
       "      <td>321</td>\n",
       "      <td>229</td>\n",
       "      <td>False</td>\n",
       "    </tr>\n",
       "    <tr>\n",
       "      <th>134902</th>\n",
       "      <td>1029478585499897858</td>\n",
       "      <td>MadeByKuba</td>\n",
       "      <td>28</td>\n",
       "      <td>111</td>\n",
       "      <td>81</td>\n",
       "      <td>False</td>\n",
       "    </tr>\n",
       "    <tr>\n",
       "      <th>134903</th>\n",
       "      <td>1314855150519947264</td>\n",
       "      <td>skinny_legend_x</td>\n",
       "      <td>88</td>\n",
       "      <td>76</td>\n",
       "      <td>562</td>\n",
       "      <td>False</td>\n",
       "    </tr>\n",
       "  </tbody>\n",
       "</table>\n",
       "<p>134904 rows × 6 columns</p>\n",
       "</div>"
      ],
      "text/plain": [
       "                         id         username  followers_count  \\\n",
       "0                  46671731       ginacarano           985121   \n",
       "1       1239941259571101697    ZoeNichols155               47   \n",
       "2                2701583718     michaelolds0                4   \n",
       "3        868993857433858048  Melissa72272061              184   \n",
       "4       1377392363249672194       BorgesJoey                4   \n",
       "...                     ...              ...              ...   \n",
       "134899             36588590          msvespa            38257   \n",
       "134900  1200667488448655360     ALittIeLife_              312   \n",
       "134901   842402820783525890  BradleyMcGuinn2               74   \n",
       "134902  1029478585499897858       MadeByKuba               28   \n",
       "134903  1314855150519947264  skinny_legend_x               88   \n",
       "\n",
       "        following_count  tweet_count  verified  \n",
       "0                  1026         4455      True  \n",
       "1                    85         4470     False  \n",
       "2                    30           15     False  \n",
       "3                   228        29727     False  \n",
       "4                    13          343     False  \n",
       "...                 ...          ...       ...  \n",
       "134899            42072        46693     False  \n",
       "134900              299         8288     False  \n",
       "134901              321          229     False  \n",
       "134902              111           81     False  \n",
       "134903               76          562     False  \n",
       "\n",
       "[134904 rows x 6 columns]"
      ]
     },
     "execution_count": 119,
     "metadata": {},
     "output_type": "execute_result"
    }
   ],
   "source": [
    "df"
   ]
  },
  {
   "cell_type": "code",
   "execution_count": 120,
   "id": "reduced-mention",
   "metadata": {},
   "outputs": [
    {
     "data": {
      "text/html": [
       "<div>\n",
       "<style scoped>\n",
       "    .dataframe tbody tr th:only-of-type {\n",
       "        vertical-align: middle;\n",
       "    }\n",
       "\n",
       "    .dataframe tbody tr th {\n",
       "        vertical-align: top;\n",
       "    }\n",
       "\n",
       "    .dataframe thead th {\n",
       "        text-align: right;\n",
       "    }\n",
       "</style>\n",
       "<table border=\"1\" class=\"dataframe\">\n",
       "  <thead>\n",
       "    <tr style=\"text-align: right;\">\n",
       "      <th></th>\n",
       "      <th>followers_count</th>\n",
       "      <th>following_count</th>\n",
       "      <th>tweet_count</th>\n",
       "    </tr>\n",
       "  </thead>\n",
       "  <tbody>\n",
       "    <tr>\n",
       "      <th>count</th>\n",
       "      <td>1.349040e+05</td>\n",
       "      <td>134904.000000</td>\n",
       "      <td>1.349040e+05</td>\n",
       "    </tr>\n",
       "    <tr>\n",
       "      <th>mean</th>\n",
       "      <td>2.053235e+03</td>\n",
       "      <td>906.081843</td>\n",
       "      <td>2.130139e+04</td>\n",
       "    </tr>\n",
       "    <tr>\n",
       "      <th>std</th>\n",
       "      <td>6.777062e+04</td>\n",
       "      <td>2728.993796</td>\n",
       "      <td>4.511145e+04</td>\n",
       "    </tr>\n",
       "    <tr>\n",
       "      <th>min</th>\n",
       "      <td>0.000000e+00</td>\n",
       "      <td>0.000000</td>\n",
       "      <td>0.000000e+00</td>\n",
       "    </tr>\n",
       "    <tr>\n",
       "      <th>25%</th>\n",
       "      <td>5.600000e+01</td>\n",
       "      <td>179.000000</td>\n",
       "      <td>1.666000e+03</td>\n",
       "    </tr>\n",
       "    <tr>\n",
       "      <th>50%</th>\n",
       "      <td>2.160000e+02</td>\n",
       "      <td>445.000000</td>\n",
       "      <td>7.043000e+03</td>\n",
       "    </tr>\n",
       "    <tr>\n",
       "      <th>75%</th>\n",
       "      <td>7.350000e+02</td>\n",
       "      <td>990.000000</td>\n",
       "      <td>2.235025e+04</td>\n",
       "    </tr>\n",
       "    <tr>\n",
       "      <th>max</th>\n",
       "      <td>1.936286e+07</td>\n",
       "      <td>591783.000000</td>\n",
       "      <td>2.866433e+06</td>\n",
       "    </tr>\n",
       "  </tbody>\n",
       "</table>\n",
       "</div>"
      ],
      "text/plain": [
       "       followers_count  following_count   tweet_count\n",
       "count     1.349040e+05    134904.000000  1.349040e+05\n",
       "mean      2.053235e+03       906.081843  2.130139e+04\n",
       "std       6.777062e+04      2728.993796  4.511145e+04\n",
       "min       0.000000e+00         0.000000  0.000000e+00\n",
       "25%       5.600000e+01       179.000000  1.666000e+03\n",
       "50%       2.160000e+02       445.000000  7.043000e+03\n",
       "75%       7.350000e+02       990.000000  2.235025e+04\n",
       "max       1.936286e+07    591783.000000  2.866433e+06"
      ]
     },
     "execution_count": 120,
     "metadata": {},
     "output_type": "execute_result"
    }
   ],
   "source": [
    "df.describe()"
   ]
  },
  {
   "cell_type": "code",
   "execution_count": 80,
   "id": "lyric-interpretation",
   "metadata": {},
   "outputs": [
    {
     "data": {
      "text/plain": [
       "id                 object\n",
       "username           object\n",
       "followers_count     int64\n",
       "following_count     int64\n",
       "tweet_count         int64\n",
       "dtype: object"
      ]
     },
     "execution_count": 80,
     "metadata": {},
     "output_type": "execute_result"
    }
   ],
   "source": [
    "df.dtypes"
   ]
  },
  {
   "cell_type": "code",
   "execution_count": 154,
   "id": "disturbed-sight",
   "metadata": {},
   "outputs": [],
   "source": [
    "lol = df.loc[df['verified'] == True].sort_values(by=['followers_count'])"
   ]
  },
  {
   "cell_type": "code",
   "execution_count": 156,
   "id": "chemical-permit",
   "metadata": {},
   "outputs": [
    {
     "data": {
      "text/html": [
       "<div>\n",
       "<style scoped>\n",
       "    .dataframe tbody tr th:only-of-type {\n",
       "        vertical-align: middle;\n",
       "    }\n",
       "\n",
       "    .dataframe tbody tr th {\n",
       "        vertical-align: top;\n",
       "    }\n",
       "\n",
       "    .dataframe thead th {\n",
       "        text-align: right;\n",
       "    }\n",
       "</style>\n",
       "<table border=\"1\" class=\"dataframe\">\n",
       "  <thead>\n",
       "    <tr style=\"text-align: right;\">\n",
       "      <th></th>\n",
       "      <th>id</th>\n",
       "      <th>username</th>\n",
       "      <th>followers_count</th>\n",
       "      <th>following_count</th>\n",
       "      <th>tweet_count</th>\n",
       "      <th>verified</th>\n",
       "    </tr>\n",
       "  </thead>\n",
       "  <tbody>\n",
       "    <tr>\n",
       "      <th>125883</th>\n",
       "      <td>40171480</td>\n",
       "      <td>jocelynchels</td>\n",
       "      <td>437</td>\n",
       "      <td>877</td>\n",
       "      <td>8444</td>\n",
       "      <td>True</td>\n",
       "    </tr>\n",
       "    <tr>\n",
       "      <th>49349</th>\n",
       "      <td>1038970321</td>\n",
       "      <td>thisisamsi</td>\n",
       "      <td>573</td>\n",
       "      <td>612</td>\n",
       "      <td>9063</td>\n",
       "      <td>True</td>\n",
       "    </tr>\n",
       "    <tr>\n",
       "      <th>47473</th>\n",
       "      <td>15704888</td>\n",
       "      <td>KingImpulse</td>\n",
       "      <td>583</td>\n",
       "      <td>260</td>\n",
       "      <td>72143</td>\n",
       "      <td>True</td>\n",
       "    </tr>\n",
       "    <tr>\n",
       "      <th>123256</th>\n",
       "      <td>467838840</td>\n",
       "      <td>kerubright</td>\n",
       "      <td>599</td>\n",
       "      <td>1210</td>\n",
       "      <td>10522</td>\n",
       "      <td>True</td>\n",
       "    </tr>\n",
       "    <tr>\n",
       "      <th>124007</th>\n",
       "      <td>593972983</td>\n",
       "      <td>emilychudy</td>\n",
       "      <td>658</td>\n",
       "      <td>582</td>\n",
       "      <td>3999</td>\n",
       "      <td>True</td>\n",
       "    </tr>\n",
       "    <tr>\n",
       "      <th>24420</th>\n",
       "      <td>168922895</td>\n",
       "      <td>iamtaylorjade</td>\n",
       "      <td>660</td>\n",
       "      <td>653</td>\n",
       "      <td>8607</td>\n",
       "      <td>True</td>\n",
       "    </tr>\n",
       "    <tr>\n",
       "      <th>45914</th>\n",
       "      <td>131923847</td>\n",
       "      <td>iamdylanhaas</td>\n",
       "      <td>709</td>\n",
       "      <td>590</td>\n",
       "      <td>4839</td>\n",
       "      <td>True</td>\n",
       "    </tr>\n",
       "    <tr>\n",
       "      <th>38370</th>\n",
       "      <td>52771152</td>\n",
       "      <td>raisedinthecity</td>\n",
       "      <td>715</td>\n",
       "      <td>1077</td>\n",
       "      <td>23577</td>\n",
       "      <td>True</td>\n",
       "    </tr>\n",
       "    <tr>\n",
       "      <th>119466</th>\n",
       "      <td>2179027880</td>\n",
       "      <td>sam_cleal</td>\n",
       "      <td>737</td>\n",
       "      <td>1141</td>\n",
       "      <td>3282</td>\n",
       "      <td>True</td>\n",
       "    </tr>\n",
       "    <tr>\n",
       "      <th>48157</th>\n",
       "      <td>18374144</td>\n",
       "      <td>simashakeri</td>\n",
       "      <td>745</td>\n",
       "      <td>390</td>\n",
       "      <td>9137</td>\n",
       "      <td>True</td>\n",
       "    </tr>\n",
       "  </tbody>\n",
       "</table>\n",
       "</div>"
      ],
      "text/plain": [
       "                id         username  followers_count  following_count  \\\n",
       "125883    40171480     jocelynchels              437              877   \n",
       "49349   1038970321       thisisamsi              573              612   \n",
       "47473     15704888      KingImpulse              583              260   \n",
       "123256   467838840       kerubright              599             1210   \n",
       "124007   593972983       emilychudy              658              582   \n",
       "24420    168922895    iamtaylorjade              660              653   \n",
       "45914    131923847     iamdylanhaas              709              590   \n",
       "38370     52771152  raisedinthecity              715             1077   \n",
       "119466  2179027880        sam_cleal              737             1141   \n",
       "48157     18374144      simashakeri              745              390   \n",
       "\n",
       "        tweet_count  verified  \n",
       "125883         8444      True  \n",
       "49349          9063      True  \n",
       "47473         72143      True  \n",
       "123256        10522      True  \n",
       "124007         3999      True  \n",
       "24420          8607      True  \n",
       "45914          4839      True  \n",
       "38370         23577      True  \n",
       "119466         3282      True  \n",
       "48157          9137      True  "
      ]
     },
     "execution_count": 156,
     "metadata": {},
     "output_type": "execute_result"
    }
   ],
   "source": [
    "lol"
   ]
  },
  {
   "cell_type": "code",
   "execution_count": 153,
   "id": "split-messenger",
   "metadata": {},
   "outputs": [
    {
     "data": {
      "text/plain": [
       "<BarContainer object of 10 artists>"
      ]
     },
     "execution_count": 153,
     "metadata": {},
     "output_type": "execute_result"
    },
    {
     "data": {
      "image/png": "[encoded data removed]",
      "text/plain": [
       "<Figure size 1200x800 with 1 Axes>"
      ]
     },
     "metadata": {
      "needs_background": "light"
     },
     "output_type": "display_data"
    }
   ],
   "source": [
    "plt.figure(figsize=(12, 8), dpi=100)\n",
    "plt.bar(lol.username, lol.followers_count)"
   ]
  },
  {
   "cell_type": "code",
   "execution_count": 83,
   "id": "median-sixth",
   "metadata": {},
   "outputs": [
    {
     "data": {
      "text/plain": [
       "<AxesSubplot:xlabel='followers_count', ylabel='tweet_count'>"
      ]
     },
     "execution_count": 83,
     "metadata": {},
     "output_type": "execute_result"
    },
    {
     "data": {
      "image/png": "[encoded data removed]",
      "text/plain": [
       "<Figure size 432x288 with 1 Axes>"
      ]
     },
     "metadata": {
      "needs_background": "light"
     },
     "output_type": "display_data"
    }
   ],
   "source": [
    "df.plot.scatter(x=\"followers_count\", y=\"tweet_count\")"
   ]
  },
  {
   "cell_type": "code",
   "execution_count": null,
   "id": "intermediate-stocks",
   "metadata": {},
   "outputs": [],
   "source": []
  },
  {
   "cell_type": "code",
   "execution_count": 113,
   "id": "stone-cooperative",
   "metadata": {},
   "outputs": [
    {
     "data": {
      "text/plain": [
       "id                 997774805511360512\n",
       "username                     this_vid\n",
       "followers_count                723298\n",
       "following_count                     0\n",
       "tweet_count                   2866433\n",
       "Name: 94295, dtype: object"
      ]
     },
     "execution_count": 113,
     "metadata": {},
     "output_type": "execute_result"
    }
   ],
   "source": [
    "df.loc[df['tweet_count'].idxmax()]"
   ]
  }
 ],
 "metadata": {
  "kernelspec": {
   "display_name": "Python 3",
   "language": "python",
   "name": "python3"
  },
  "language_info": {
   "codemirror_mode": {
    "name": "ipython",
    "version": 3
   },
   "file_extension": ".py",
   "mimetype": "text/x-python",
   "name": "python",
   "nbconvert_exporter": "python",
   "pygments_lexer": "ipython3",
   "version": "3.8.10"
  }
 },
 "nbformat": 4,
 "nbformat_minor": 5
}
