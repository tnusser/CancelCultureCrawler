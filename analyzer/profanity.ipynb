{
 "cells": [
  {
   "cell_type": "code",
   "execution_count": 17,
   "id": "featured-egyptian",
   "metadata": {},
   "outputs": [
    {
     "name": "stdout",
     "output_type": "stream",
     "text": [
      "/usr/lib/python3/dist-packages/secretstorage/dhcrypto.py:15: CryptographyDeprecationWarning: int_from_bytes is deprecated, use int.from_bytes instead\n",
      "  from cryptography.utils import int_from_bytes\n",
      "/usr/lib/python3/dist-packages/secretstorage/util.py:19: CryptographyDeprecationWarning: int_from_bytes is deprecated, use int.from_bytes instead\n",
      "  from cryptography.utils import int_from_bytes\n",
      "Defaulting to user installation because normal site-packages is not writeable\n",
      "Requirement already satisfied: alt-profanity-check in /home/tobias/.local/lib/python3.8/site-packages (1.0.2.1)\n",
      "Requirement already satisfied: joblib>=1.1.0 in /home/tobias/.local/lib/python3.8/site-packages (from alt-profanity-check) (1.1.0)\n",
      "Requirement already satisfied: scikit-learn==1.0.2 in /home/tobias/.local/lib/python3.8/site-packages (from alt-profanity-check) (1.0.2)\n",
      "Requirement already satisfied: scipy>=1.1.0 in /usr/local/lib/python3.8/dist-packages (from scikit-learn==1.0.2->alt-profanity-check) (1.6.0)\n",
      "Requirement already satisfied: threadpoolctl>=2.0.0 in /usr/local/lib/python3.8/dist-packages (from scikit-learn==1.0.2->alt-profanity-check) (2.1.0)\n",
      "Requirement already satisfied: numpy>=1.14.6 in /usr/local/lib/python3.8/dist-packages (from scikit-learn==1.0.2->alt-profanity-check) (1.19.5)\n",
      "\u001b[33mWARNING: You are using pip version 20.3.3; however, version 21.3.1 is available.\n",
      "You should consider upgrading via the '/usr/bin/python3.8 -m pip install --upgrade pip' command.\u001b[0m\n"
     ]
    }
   ],
   "source": [
    "!pip install alt-profanity-check\n",
    "from profanity_check import predict, predict_prob"
   ]
  },
  {
   "cell_type": "code",
   "execution_count": 1,
   "id": "synthetic-breathing",
   "metadata": {},
   "outputs": [],
   "source": [
    "from pymongo import MongoClient\n",
    "import matplotlib.pyplot as plt\n",
    "import os\n",
    "from sshtunnel import SSHTunnelForwarder\n",
    "import numpy as np\n",
    "import pandas as pd"
   ]
  },
  {
   "cell_type": "code",
   "execution_count": 2,
   "id": "conceptual-bridges",
   "metadata": {},
   "outputs": [],
   "source": [
    "MONGO_HOST = \"193.196.55.231\"\n",
    "MONGO_DB = \"twitter_db\"\n",
    "MONGO_USER = \"LOGIN\"\n",
    "MONGO_PASS = \"PASSWORD\"\n",
    "\n",
    "server = SSHTunnelForwarder(\n",
    "    MONGO_HOST,\n",
    "    ssh_username=\"ubuntu\",\n",
    "    ssh_pkey=\"/home/tobias/.ssh/ghost_id_rsa\",\n",
    "    remote_bind_address=('127.0.0.1', 27017)\n",
    ")\n",
    "\n",
    "server.start()\n",
    "\n",
    "client = MongoClient('127.0.0.1', server.local_bind_port) # server.local_bind_port is assigned local port\n",
    "db = client[MONGO_DB]\n"
   ]
  },
  {
   "cell_type": "code",
   "execution_count": 3,
   "id": "retired-accuracy",
   "metadata": {},
   "outputs": [],
   "source": [
    "data = db.cc_tweets.find({}, {\"text\": 1, \"seed\" : 1, \"possibly_sensitive\": 1})\n",
    "df = pd.DataFrame(list(data))"
   ]
  },
  {
   "cell_type": "code",
   "execution_count": 8,
   "id": "hundred-infrared",
   "metadata": {},
   "outputs": [],
   "source": [
    "sensitive = df.loc[df.possibly_sensitive == True]"
   ]
  },
  {
   "cell_type": "code",
   "execution_count": 28,
   "id": "impaired-january",
   "metadata": {},
   "outputs": [
    {
     "name": "stdout",
     "output_type": "stream",
     "text": [
      "Profantiy words: 978 from a total of 5000 tweets. Ratio: 0.1956\n",
      "Profantiy words: 1866 from a total of 10000 tweets. Ratio: 0.1866\n",
      "Profantiy words: 2566 from a total of 15000 tweets. Ratio: 0.17106666666666667\n",
      "Profantiy words: 3082 from a total of 20000 tweets. Ratio: 0.1541\n",
      "Profantiy words: 3685 from a total of 25000 tweets. Ratio: 0.1474\n",
      "Profantiy words: 4223 from a total of 30000 tweets. Ratio: 0.14076666666666668\n",
      "Profantiy words: 4848 from a total of 35000 tweets. Ratio: 0.1385142857142857\n",
      "Profantiy words: 5479 from a total of 40000 tweets. Ratio: 0.136975\n",
      "Profantiy words: 6119 from a total of 45000 tweets. Ratio: 0.13597777777777778\n",
      "Profantiy words: 6746 from a total of 50000 tweets. Ratio: 0.13492\n",
      "Profantiy words: 7439 from a total of 55000 tweets. Ratio: 0.13525454545454546\n",
      "Profantiy words: 8133 from a total of 60000 tweets. Ratio: 0.13555\n",
      "Profantiy words: 8863 from a total of 65000 tweets. Ratio: 0.13635384615384616\n",
      "Profantiy words: 9580 from a total of 70000 tweets. Ratio: 0.13685714285714284\n",
      "Profantiy words: 10283 from a total of 75000 tweets. Ratio: 0.13710666666666665\n",
      "Profantiy words: 11111 from a total of 80000 tweets. Ratio: 0.1388875\n",
      "Profantiy words: 11937 from a total of 85000 tweets. Ratio: 0.14043529411764705\n",
      "Profantiy words: 12903 from a total of 90000 tweets. Ratio: 0.14336666666666667\n",
      "Profantiy words: 13937 from a total of 95000 tweets. Ratio: 0.14670526315789473\n",
      "Profantiy words: 15031 from a total of 100000 tweets. Ratio: 0.15031\n",
      "Profantiy words: 16216 from a total of 105000 tweets. Ratio: 0.15443809523809524\n",
      "Profantiy words: 16622 from a total of 110000 tweets. Ratio: 0.15110909090909092\n",
      "Profantiy words: 17053 from a total of 115000 tweets. Ratio: 0.14828695652173912\n",
      "Profantiy words: 17519 from a total of 120000 tweets. Ratio: 0.14599166666666666\n",
      "Profantiy words: 18115 from a total of 125000 tweets. Ratio: 0.14492\n",
      "Profantiy words: 18696 from a total of 130000 tweets. Ratio: 0.14381538461538462\n",
      "Profantiy words: 19392 from a total of 135000 tweets. Ratio: 0.14364444444444444\n",
      "Profantiy words: 20074 from a total of 140000 tweets. Ratio: 0.14338571428571428\n",
      "Profantiy words: 20800 from a total of 145000 tweets. Ratio: 0.14344827586206896\n",
      "Profantiy words: 21435 from a total of 150000 tweets. Ratio: 0.1429\n",
      "Profantiy words: 22095 from a total of 155000 tweets. Ratio: 0.1425483870967742\n",
      "Profantiy words: 22869 from a total of 160000 tweets. Ratio: 0.14293125\n",
      "Profantiy words: 24056 from a total of 165000 tweets. Ratio: 0.1457939393939394\n",
      "Profantiy words: 25307 from a total of 170000 tweets. Ratio: 0.14886470588235295\n",
      "Profantiy words: 25989 from a total of 175000 tweets. Ratio: 0.14850857142857143\n",
      "Profantiy words: 26193 from a total of 180000 tweets. Ratio: 0.14551666666666666\n",
      "Profantiy words: 26671 from a total of 185000 tweets. Ratio: 0.14416756756756757\n",
      "Profantiy words: 27095 from a total of 190000 tweets. Ratio: 0.14260526315789473\n",
      "Profantiy words: 27665 from a total of 195000 tweets. Ratio: 0.14187179487179488\n",
      "Profantiy words: 28393 from a total of 200000 tweets. Ratio: 0.141965\n",
      "Profantiy words: 29057 from a total of 205000 tweets. Ratio: 0.14174146341463414\n",
      "Profantiy words: 29480 from a total of 210000 tweets. Ratio: 0.14038095238095238\n",
      "Profantiy words: 29976 from a total of 215000 tweets. Ratio: 0.13942325581395348\n",
      "Profantiy words: 30453 from a total of 220000 tweets. Ratio: 0.13842272727272728\n",
      "Profantiy words: 31016 from a total of 225000 tweets. Ratio: 0.13784888888888888\n",
      "Profantiy words: 31659 from a total of 230000 tweets. Ratio: 0.13764782608695653\n",
      "Profantiy words: 32250 from a total of 235000 tweets. Ratio: 0.1372340425531915\n",
      "Profantiy words: 32875 from a total of 240000 tweets. Ratio: 0.13697916666666668\n",
      "Profantiy words: 33482 from a total of 245000 tweets. Ratio: 0.13666122448979592\n",
      "Profantiy words: 34175 from a total of 250000 tweets. Ratio: 0.1367\n",
      "Profantiy words: 34853 from a total of 255000 tweets. Ratio: 0.136678431372549\n",
      "Profantiy words: 35583 from a total of 260000 tweets. Ratio: 0.13685769230769232\n",
      "Profantiy words: 36310 from a total of 265000 tweets. Ratio: 0.1370188679245283\n",
      "Profantiy words: 36968 from a total of 270000 tweets. Ratio: 0.13691851851851852\n",
      "Profantiy words: 37651 from a total of 275000 tweets. Ratio: 0.13691272727272727\n",
      "Profantiy words: 38358 from a total of 280000 tweets. Ratio: 0.13699285714285714\n",
      "Profantiy words: 39103 from a total of 285000 tweets. Ratio: 0.13720350877192983\n",
      "Profantiy words: 39979 from a total of 290000 tweets. Ratio: 0.13785862068965518\n",
      "Profantiy words: 40824 from a total of 295000 tweets. Ratio: 0.1383864406779661\n",
      "Profantiy words: 41621 from a total of 300000 tweets. Ratio: 0.13873666666666667\n",
      "Profantiy words: 42547 from a total of 305000 tweets. Ratio: 0.1394983606557377\n",
      "Profantiy words: 43357 from a total of 310000 tweets. Ratio: 0.13986129032258066\n",
      "Profantiy words: 44222 from a total of 315000 tweets. Ratio: 0.1403873015873016\n",
      "Profantiy words: 45134 from a total of 320000 tweets. Ratio: 0.14104375\n",
      "Profantiy words: 46080 from a total of 325000 tweets. Ratio: 0.1417846153846154\n",
      "Profantiy words: 47102 from a total of 330000 tweets. Ratio: 0.14273333333333332\n",
      "Profantiy words: 48152 from a total of 335000 tweets. Ratio: 0.14373731343283583\n",
      "Profantiy words: 48937 from a total of 340000 tweets. Ratio: 0.14393235294117648\n",
      "Profantiy words: 49285 from a total of 345000 tweets. Ratio: 0.1428550724637681\n",
      "Profantiy words: 50016 from a total of 350000 tweets. Ratio: 0.14290285714285714\n",
      "Profantiy words: 50783 from a total of 355000 tweets. Ratio: 0.1430507042253521\n",
      "Profantiy words: 51453 from a total of 360000 tweets. Ratio: 0.142925\n",
      "Profantiy words: 52216 from a total of 365000 tweets. Ratio: 0.14305753424657533\n",
      "Profantiy words: 52824 from a total of 370000 tweets. Ratio: 0.14276756756756756\n",
      "Profantiy words: 53523 from a total of 375000 tweets. Ratio: 0.142728\n",
      "Profantiy words: 54137 from a total of 380000 tweets. Ratio: 0.1424657894736842\n",
      "Profantiy words: 54712 from a total of 385000 tweets. Ratio: 0.1421090909090909\n",
      "Profantiy words: 55356 from a total of 390000 tweets. Ratio: 0.14193846153846154\n",
      "Profantiy words: 56083 from a total of 395000 tweets. Ratio: 0.14198227848101266\n",
      "Profantiy words: 56766 from a total of 400000 tweets. Ratio: 0.141915\n",
      "Profantiy words: 57574 from a total of 405000 tweets. Ratio: 0.14215802469135802\n",
      "Profantiy words: 58417 from a total of 410000 tweets. Ratio: 0.14248048780487804\n",
      "Profantiy words: 59350 from a total of 415000 tweets. Ratio: 0.14301204819277108\n",
      "Profantiy words: 60321 from a total of 420000 tweets. Ratio: 0.14362142857142857\n",
      "Profantiy words: 61298 from a total of 425000 tweets. Ratio: 0.1442305882352941\n",
      "Profantiy words: 62293 from a total of 430000 tweets. Ratio: 0.14486744186046513\n",
      "Profantiy words: 63552 from a total of 435000 tweets. Ratio: 0.14609655172413794\n",
      "Profantiy words: 64383 from a total of 440000 tweets. Ratio: 0.146325\n",
      "Profantiy words: 65155 from a total of 445000 tweets. Ratio: 0.14641573033707866\n",
      "Profantiy words: 65999 from a total of 450000 tweets. Ratio: 0.14666444444444443\n",
      "Profantiy words: 66663 from a total of 455000 tweets. Ratio: 0.14651208791208792\n",
      "Profantiy words: 66958 from a total of 460000 tweets. Ratio: 0.14556086956521738\n",
      "Profantiy words: 67384 from a total of 465000 tweets. Ratio: 0.14491182795698926\n",
      "Profantiy words: 67751 from a total of 470000 tweets. Ratio: 0.14415106382978723\n",
      "Profantiy words: 68339 from a total of 475000 tweets. Ratio: 0.14387157894736843\n",
      "Profantiy words: 68979 from a total of 480000 tweets. Ratio: 0.14370625\n",
      "Profantiy words: 69586 from a total of 485000 tweets. Ratio: 0.1434762886597938\n",
      "Profantiy words: 70414 from a total of 490000 tweets. Ratio: 0.14370204081632654\n",
      "Profantiy words: 71064 from a total of 495000 tweets. Ratio: 0.14356363636363637\n",
      "Profantiy words: 71778 from a total of 500000 tweets. Ratio: 0.143556\n",
      "Profantiy words: 72437 from a total of 505000 tweets. Ratio: 0.14343960396039604\n",
      "Profantiy words: 73049 from a total of 510000 tweets. Ratio: 0.14323333333333332\n",
      "Profantiy words: 73823 from a total of 515000 tweets. Ratio: 0.14334563106796117\n",
      "Profantiy words: 74760 from a total of 520000 tweets. Ratio: 0.14376923076923076\n",
      "Profantiy words: 78360 from a total of 525000 tweets. Ratio: 0.14925714285714287\n"
     ]
    },
    {
     "name": "stdout",
     "output_type": "stream",
     "text": [
      "Profantiy words: 83355 from a total of 530000 tweets. Ratio: 0.15727358490566037\n",
      "Profantiy words: 85675 from a total of 535000 tweets. Ratio: 0.16014018691588786\n",
      "Profantiy words: 85851 from a total of 540000 tweets. Ratio: 0.15898333333333334\n",
      "Profantiy words: 86149 from a total of 545000 tweets. Ratio: 0.15807155963302752\n",
      "Profantiy words: 86364 from a total of 550000 tweets. Ratio: 0.15702545454545455\n",
      "Profantiy words: 86367 from a total of 550087 tweets. Ratio: 0.15700607358472388\n"
     ]
    }
   ],
   "source": [
    "profanity = 0\n",
    "for i, el in enumerate(df.text):\n",
    "    if i % 5000 == 0 and i != 0:\n",
    "        print(f\"Profantiy words: {profanity} from a total of {i} tweets. Ratio: {profanity/i}\")\n",
    "    i += 1\n",
    "    if predict([el]) == 1:\n",
    "        profanity += 1\n",
    "print(f\"Profantiy words: {profanity} from a total of {i} tweets. Ratio: {profanity/i}\")"
   ]
  },
  {
   "cell_type": "markdown",
   "id": "welcome-struggle",
   "metadata": {},
   "source": [
    "## Too much time"
   ]
  },
  {
   "cell_type": "code",
   "execution_count": 32,
   "id": "brilliant-international",
   "metadata": {},
   "outputs": [],
   "source": [
    "data = db.cc_tweets.find({\"author_id\": \"18610633\"}, {\"text\": 1, \"seed\" : 1, \"author_id\": 1, \"created_at\" :1 })"
   ]
  },
  {
   "cell_type": "code",
   "execution_count": 33,
   "id": "spanish-montana",
   "metadata": {},
   "outputs": [],
   "source": [
    "df_data = pd.DataFrame(list(data))"
   ]
  },
  {
   "cell_type": "code",
   "execution_count": 34,
   "id": "leading-anthropology",
   "metadata": {},
   "outputs": [
    {
     "data": {
      "text/html": [
       "<div>\n",
       "<style scoped>\n",
       "    .dataframe tbody tr th:only-of-type {\n",
       "        vertical-align: middle;\n",
       "    }\n",
       "\n",
       "    .dataframe tbody tr th {\n",
       "        vertical-align: top;\n",
       "    }\n",
       "\n",
       "    .dataframe thead th {\n",
       "        text-align: right;\n",
       "    }\n",
       "</style>\n",
       "<table border=\"1\" class=\"dataframe\">\n",
       "  <thead>\n",
       "    <tr style=\"text-align: right;\">\n",
       "      <th></th>\n",
       "      <th>_id</th>\n",
       "      <th>text</th>\n",
       "      <th>created_at</th>\n",
       "      <th>author_id</th>\n",
       "      <th>seed</th>\n",
       "    </tr>\n",
       "  </thead>\n",
       "  <tbody>\n",
       "    <tr>\n",
       "      <th>0</th>\n",
       "      <td>61e71dc81d4d4f3c2be4d9f4</td>\n",
       "      <td>@bode_e @maaralaaaros @JoanneK39 @sunflwgrange...</td>\n",
       "      <td>2020-06-07T10:29:01.000Z</td>\n",
       "      <td>18610633</td>\n",
       "      <td>1269382518362509313</td>\n",
       "    </tr>\n",
       "    <tr>\n",
       "      <th>1</th>\n",
       "      <td>61e71de41d4d4f3c2be4e363</td>\n",
       "      <td>@MaddieGillespi3 @djgordy @zaelefty @quelizinh...</td>\n",
       "      <td>2020-06-07T09:13:26.000Z</td>\n",
       "      <td>18610633</td>\n",
       "      <td>1269382518362509313</td>\n",
       "    </tr>\n",
       "    <tr>\n",
       "      <th>2</th>\n",
       "      <td>61e71de91d4d4f3c2be4e529</td>\n",
       "      <td>@bode_e @maaralaaaros @JoanneK39 @sunflwgrange...</td>\n",
       "      <td>2020-06-07T08:57:17.000Z</td>\n",
       "      <td>18610633</td>\n",
       "      <td>1269382518362509313</td>\n",
       "    </tr>\n",
       "    <tr>\n",
       "      <th>3</th>\n",
       "      <td>61e71dec1d4d4f3c2be4e638</td>\n",
       "      <td>@EvaPoen @AudreySuffolk @jk_rowling This retwe...</td>\n",
       "      <td>2020-06-07T08:47:30.000Z</td>\n",
       "      <td>18610633</td>\n",
       "      <td>1269382518362509313</td>\n",
       "    </tr>\n",
       "    <tr>\n",
       "      <th>4</th>\n",
       "      <td>61e71e151d4d4f3c2be4f3b0</td>\n",
       "      <td>@maaralaaaros @JoanneK39 @sunflwgranger @heath...</td>\n",
       "      <td>2020-06-07T06:42:41.000Z</td>\n",
       "      <td>18610633</td>\n",
       "      <td>1269382518362509313</td>\n",
       "    </tr>\n",
       "    <tr>\n",
       "      <th>...</th>\n",
       "      <td>...</td>\n",
       "      <td>...</td>\n",
       "      <td>...</td>\n",
       "      <td>...</td>\n",
       "      <td>...</td>\n",
       "    </tr>\n",
       "    <tr>\n",
       "      <th>1292</th>\n",
       "      <td>61e83de41d4d4f3c2bed4e61</td>\n",
       "      <td>@starofstage The likes disappear in their 0000...</td>\n",
       "      <td>2021-01-31T10:57:38.000Z</td>\n",
       "      <td>18610633</td>\n",
       "      <td>1269389298664701952</td>\n",
       "    </tr>\n",
       "    <tr>\n",
       "      <th>1293</th>\n",
       "      <td>61e85f9b1d4d4f3c2bedb16f</td>\n",
       "      <td>RT @jk_rowling: ‘Feminazi’, ‘TERF’, ‘bitch’, ‘...</td>\n",
       "      <td>2021-02-28T20:19:03.000Z</td>\n",
       "      <td>18610633</td>\n",
       "      <td>1269389298664701952</td>\n",
       "    </tr>\n",
       "    <tr>\n",
       "      <th>1294</th>\n",
       "      <td>61e85fd91d4d4f3c2bedc711</td>\n",
       "      <td>RT @jk_rowling: ‘Feminazi’, ‘TERF’, ‘bitch’, ‘...</td>\n",
       "      <td>2020-06-07T06:46:12.000Z</td>\n",
       "      <td>18610633</td>\n",
       "      <td>1269389298664701952</td>\n",
       "    </tr>\n",
       "    <tr>\n",
       "      <th>1295</th>\n",
       "      <td>61e9288f2b365cf418d78c89</td>\n",
       "      <td>19.01.22 #ILoveJKRowling https://t.co/ND5riPoXvC</td>\n",
       "      <td>2022-01-19T18:03:33.000Z</td>\n",
       "      <td>18610633</td>\n",
       "      <td>1269389298664701952</td>\n",
       "    </tr>\n",
       "    <tr>\n",
       "      <th>1296</th>\n",
       "      <td>61e933c12b365cf418d90f66</td>\n",
       "      <td>19.01.22 #ILoveJKRowling https://t.co/kwKzWQbzai</td>\n",
       "      <td>2022-01-19T18:03:28.000Z</td>\n",
       "      <td>18610633</td>\n",
       "      <td>1269389298664701952</td>\n",
       "    </tr>\n",
       "  </tbody>\n",
       "</table>\n",
       "<p>1297 rows × 5 columns</p>\n",
       "</div>"
      ],
      "text/plain": [
       "                           _id  \\\n",
       "0     61e71dc81d4d4f3c2be4d9f4   \n",
       "1     61e71de41d4d4f3c2be4e363   \n",
       "2     61e71de91d4d4f3c2be4e529   \n",
       "3     61e71dec1d4d4f3c2be4e638   \n",
       "4     61e71e151d4d4f3c2be4f3b0   \n",
       "...                        ...   \n",
       "1292  61e83de41d4d4f3c2bed4e61   \n",
       "1293  61e85f9b1d4d4f3c2bedb16f   \n",
       "1294  61e85fd91d4d4f3c2bedc711   \n",
       "1295  61e9288f2b365cf418d78c89   \n",
       "1296  61e933c12b365cf418d90f66   \n",
       "\n",
       "                                                   text  \\\n",
       "0     @bode_e @maaralaaaros @JoanneK39 @sunflwgrange...   \n",
       "1     @MaddieGillespi3 @djgordy @zaelefty @quelizinh...   \n",
       "2     @bode_e @maaralaaaros @JoanneK39 @sunflwgrange...   \n",
       "3     @EvaPoen @AudreySuffolk @jk_rowling This retwe...   \n",
       "4     @maaralaaaros @JoanneK39 @sunflwgranger @heath...   \n",
       "...                                                 ...   \n",
       "1292  @starofstage The likes disappear in their 0000...   \n",
       "1293  RT @jk_rowling: ‘Feminazi’, ‘TERF’, ‘bitch’, ‘...   \n",
       "1294  RT @jk_rowling: ‘Feminazi’, ‘TERF’, ‘bitch’, ‘...   \n",
       "1295   19.01.22 #ILoveJKRowling https://t.co/ND5riPoXvC   \n",
       "1296   19.01.22 #ILoveJKRowling https://t.co/kwKzWQbzai   \n",
       "\n",
       "                    created_at author_id                 seed  \n",
       "0     2020-06-07T10:29:01.000Z  18610633  1269382518362509313  \n",
       "1     2020-06-07T09:13:26.000Z  18610633  1269382518362509313  \n",
       "2     2020-06-07T08:57:17.000Z  18610633  1269382518362509313  \n",
       "3     2020-06-07T08:47:30.000Z  18610633  1269382518362509313  \n",
       "4     2020-06-07T06:42:41.000Z  18610633  1269382518362509313  \n",
       "...                        ...       ...                  ...  \n",
       "1292  2021-01-31T10:57:38.000Z  18610633  1269389298664701952  \n",
       "1293  2021-02-28T20:19:03.000Z  18610633  1269389298664701952  \n",
       "1294  2020-06-07T06:46:12.000Z  18610633  1269389298664701952  \n",
       "1295  2022-01-19T18:03:33.000Z  18610633  1269389298664701952  \n",
       "1296  2022-01-19T18:03:28.000Z  18610633  1269389298664701952  \n",
       "\n",
       "[1297 rows x 5 columns]"
      ]
     },
     "execution_count": 34,
     "metadata": {},
     "output_type": "execute_result"
    }
   ],
   "source": [
    "df_data"
   ]
  },
  {
   "cell_type": "code",
   "execution_count": 36,
   "id": "fiscal-bishop",
   "metadata": {},
   "outputs": [
    {
     "name": "stdout",
     "output_type": "stream",
     "text": [
      "/usr/lib/python3/dist-packages/secretstorage/dhcrypto.py:15: CryptographyDeprecationWarning: int_from_bytes is deprecated, use int.from_bytes instead\n",
      "  from cryptography.utils import int_from_bytes\n",
      "/usr/lib/python3/dist-packages/secretstorage/util.py:19: CryptographyDeprecationWarning: int_from_bytes is deprecated, use int.from_bytes instead\n",
      "  from cryptography.utils import int_from_bytes\n",
      "Defaulting to user installation because normal site-packages is not writeable\n",
      "Collecting calmap\n",
      "  Downloading calmap-0.0.9-py2.py3-none-any.whl (7.1 kB)\n",
      "Requirement already satisfied: pandas in /usr/local/lib/python3.8/dist-packages (from calmap) (1.2.1)\n",
      "Requirement already satisfied: matplotlib in /usr/local/lib/python3.8/dist-packages (from calmap) (3.3.3)\n",
      "Requirement already satisfied: numpy in /usr/local/lib/python3.8/dist-packages (from calmap) (1.19.5)\n",
      "Requirement already satisfied: pillow>=6.2.0 in /usr/lib/python3/dist-packages (from matplotlib->calmap) (7.0.0)\n",
      "Requirement already satisfied: cycler>=0.10 in /usr/local/lib/python3.8/dist-packages (from matplotlib->calmap) (0.10.0)\n",
      "Requirement already satisfied: pyparsing!=2.0.4,!=2.1.2,!=2.1.6,>=2.0.3 in /usr/local/lib/python3.8/dist-packages (from matplotlib->calmap) (2.4.7)\n",
      "Requirement already satisfied: python-dateutil>=2.1 in /usr/lib/python3/dist-packages (from matplotlib->calmap) (2.7.3)\n",
      "Requirement already satisfied: kiwisolver>=1.0.1 in /usr/local/lib/python3.8/dist-packages (from matplotlib->calmap) (1.3.1)\n",
      "Requirement already satisfied: six in /usr/lib/python3/dist-packages (from cycler>=0.10->matplotlib->calmap) (1.14.0)\n",
      "Requirement already satisfied: pytz>=2017.3 in /usr/lib/python3/dist-packages (from pandas->calmap) (2019.3)\n",
      "Installing collected packages: calmap\n",
      "Successfully installed calmap-0.0.9\n",
      "\u001b[33mWARNING: You are using pip version 20.3.3; however, version 21.3.1 is available.\n",
      "You should consider upgrading via the '/usr/bin/python3.8 -m pip install --upgrade pip' command.\u001b[0m\n"
     ]
    }
   ],
   "source": [
    "#Installing and importing the calmap library\n",
    "!pip install calmap #import the library\n",
    "import calmap"
   ]
  },
  {
   "cell_type": "code",
   "execution_count": 42,
   "id": "agricultural-former",
   "metadata": {},
   "outputs": [
    {
     "data": {
      "text/plain": [
       "_id           object\n",
       "text          object\n",
       "created_at    object\n",
       "author_id     object\n",
       "seed          object\n",
       "dtype: object"
      ]
     },
     "execution_count": 42,
     "metadata": {},
     "output_type": "execute_result"
    }
   ],
   "source": [
    "df_data.dtypes"
   ]
  },
  {
   "cell_type": "code",
   "execution_count": 45,
   "id": "altered-induction",
   "metadata": {},
   "outputs": [],
   "source": [
    "df_data[\"created_at\"] = pd.to_datetime(df_data['created_at'], format='%Y-%m-%dT%H:%M:%S.%fZ')"
   ]
  },
  {
   "cell_type": "code",
   "execution_count": 48,
   "id": "crazy-state",
   "metadata": {},
   "outputs": [
    {
     "data": {
      "text/html": [
       "<div>\n",
       "<style scoped>\n",
       "    .dataframe tbody tr th:only-of-type {\n",
       "        vertical-align: middle;\n",
       "    }\n",
       "\n",
       "    .dataframe tbody tr th {\n",
       "        vertical-align: top;\n",
       "    }\n",
       "\n",
       "    .dataframe thead th {\n",
       "        text-align: right;\n",
       "    }\n",
       "</style>\n",
       "<table border=\"1\" class=\"dataframe\">\n",
       "  <thead>\n",
       "    <tr style=\"text-align: right;\">\n",
       "      <th></th>\n",
       "      <th>_id</th>\n",
       "      <th>text</th>\n",
       "      <th>author_id</th>\n",
       "      <th>seed</th>\n",
       "    </tr>\n",
       "    <tr>\n",
       "      <th>created_at</th>\n",
       "      <th></th>\n",
       "      <th></th>\n",
       "      <th></th>\n",
       "      <th></th>\n",
       "    </tr>\n",
       "  </thead>\n",
       "  <tbody>\n",
       "    <tr>\n",
       "      <th>2020-06-07 10:29:01</th>\n",
       "      <td>61e71dc81d4d4f3c2be4d9f4</td>\n",
       "      <td>@bode_e @maaralaaaros @JoanneK39 @sunflwgrange...</td>\n",
       "      <td>18610633</td>\n",
       "      <td>1269382518362509313</td>\n",
       "    </tr>\n",
       "    <tr>\n",
       "      <th>2020-06-07 09:13:26</th>\n",
       "      <td>61e71de41d4d4f3c2be4e363</td>\n",
       "      <td>@MaddieGillespi3 @djgordy @zaelefty @quelizinh...</td>\n",
       "      <td>18610633</td>\n",
       "      <td>1269382518362509313</td>\n",
       "    </tr>\n",
       "    <tr>\n",
       "      <th>2020-06-07 08:57:17</th>\n",
       "      <td>61e71de91d4d4f3c2be4e529</td>\n",
       "      <td>@bode_e @maaralaaaros @JoanneK39 @sunflwgrange...</td>\n",
       "      <td>18610633</td>\n",
       "      <td>1269382518362509313</td>\n",
       "    </tr>\n",
       "    <tr>\n",
       "      <th>2020-06-07 08:47:30</th>\n",
       "      <td>61e71dec1d4d4f3c2be4e638</td>\n",
       "      <td>@EvaPoen @AudreySuffolk @jk_rowling This retwe...</td>\n",
       "      <td>18610633</td>\n",
       "      <td>1269382518362509313</td>\n",
       "    </tr>\n",
       "    <tr>\n",
       "      <th>2020-06-07 06:42:41</th>\n",
       "      <td>61e71e151d4d4f3c2be4f3b0</td>\n",
       "      <td>@maaralaaaros @JoanneK39 @sunflwgranger @heath...</td>\n",
       "      <td>18610633</td>\n",
       "      <td>1269382518362509313</td>\n",
       "    </tr>\n",
       "    <tr>\n",
       "      <th>...</th>\n",
       "      <td>...</td>\n",
       "      <td>...</td>\n",
       "      <td>...</td>\n",
       "      <td>...</td>\n",
       "    </tr>\n",
       "    <tr>\n",
       "      <th>2021-01-31 10:57:38</th>\n",
       "      <td>61e83de41d4d4f3c2bed4e61</td>\n",
       "      <td>@starofstage The likes disappear in their 0000...</td>\n",
       "      <td>18610633</td>\n",
       "      <td>1269389298664701952</td>\n",
       "    </tr>\n",
       "    <tr>\n",
       "      <th>2021-02-28 20:19:03</th>\n",
       "      <td>61e85f9b1d4d4f3c2bedb16f</td>\n",
       "      <td>RT @jk_rowling: ‘Feminazi’, ‘TERF’, ‘bitch’, ‘...</td>\n",
       "      <td>18610633</td>\n",
       "      <td>1269389298664701952</td>\n",
       "    </tr>\n",
       "    <tr>\n",
       "      <th>2020-06-07 06:46:12</th>\n",
       "      <td>61e85fd91d4d4f3c2bedc711</td>\n",
       "      <td>RT @jk_rowling: ‘Feminazi’, ‘TERF’, ‘bitch’, ‘...</td>\n",
       "      <td>18610633</td>\n",
       "      <td>1269389298664701952</td>\n",
       "    </tr>\n",
       "    <tr>\n",
       "      <th>2022-01-19 18:03:33</th>\n",
       "      <td>61e9288f2b365cf418d78c89</td>\n",
       "      <td>19.01.22 #ILoveJKRowling https://t.co/ND5riPoXvC</td>\n",
       "      <td>18610633</td>\n",
       "      <td>1269389298664701952</td>\n",
       "    </tr>\n",
       "    <tr>\n",
       "      <th>2022-01-19 18:03:28</th>\n",
       "      <td>61e933c12b365cf418d90f66</td>\n",
       "      <td>19.01.22 #ILoveJKRowling https://t.co/kwKzWQbzai</td>\n",
       "      <td>18610633</td>\n",
       "      <td>1269389298664701952</td>\n",
       "    </tr>\n",
       "  </tbody>\n",
       "</table>\n",
       "<p>1297 rows × 4 columns</p>\n",
       "</div>"
      ],
      "text/plain": [
       "                                          _id  \\\n",
       "created_at                                      \n",
       "2020-06-07 10:29:01  61e71dc81d4d4f3c2be4d9f4   \n",
       "2020-06-07 09:13:26  61e71de41d4d4f3c2be4e363   \n",
       "2020-06-07 08:57:17  61e71de91d4d4f3c2be4e529   \n",
       "2020-06-07 08:47:30  61e71dec1d4d4f3c2be4e638   \n",
       "2020-06-07 06:42:41  61e71e151d4d4f3c2be4f3b0   \n",
       "...                                       ...   \n",
       "2021-01-31 10:57:38  61e83de41d4d4f3c2bed4e61   \n",
       "2021-02-28 20:19:03  61e85f9b1d4d4f3c2bedb16f   \n",
       "2020-06-07 06:46:12  61e85fd91d4d4f3c2bedc711   \n",
       "2022-01-19 18:03:33  61e9288f2b365cf418d78c89   \n",
       "2022-01-19 18:03:28  61e933c12b365cf418d90f66   \n",
       "\n",
       "                                                                  text  \\\n",
       "created_at                                                               \n",
       "2020-06-07 10:29:01  @bode_e @maaralaaaros @JoanneK39 @sunflwgrange...   \n",
       "2020-06-07 09:13:26  @MaddieGillespi3 @djgordy @zaelefty @quelizinh...   \n",
       "2020-06-07 08:57:17  @bode_e @maaralaaaros @JoanneK39 @sunflwgrange...   \n",
       "2020-06-07 08:47:30  @EvaPoen @AudreySuffolk @jk_rowling This retwe...   \n",
       "2020-06-07 06:42:41  @maaralaaaros @JoanneK39 @sunflwgranger @heath...   \n",
       "...                                                                ...   \n",
       "2021-01-31 10:57:38  @starofstage The likes disappear in their 0000...   \n",
       "2021-02-28 20:19:03  RT @jk_rowling: ‘Feminazi’, ‘TERF’, ‘bitch’, ‘...   \n",
       "2020-06-07 06:46:12  RT @jk_rowling: ‘Feminazi’, ‘TERF’, ‘bitch’, ‘...   \n",
       "2022-01-19 18:03:33   19.01.22 #ILoveJKRowling https://t.co/ND5riPoXvC   \n",
       "2022-01-19 18:03:28   19.01.22 #ILoveJKRowling https://t.co/kwKzWQbzai   \n",
       "\n",
       "                    author_id                 seed  \n",
       "created_at                                          \n",
       "2020-06-07 10:29:01  18610633  1269382518362509313  \n",
       "2020-06-07 09:13:26  18610633  1269382518362509313  \n",
       "2020-06-07 08:57:17  18610633  1269382518362509313  \n",
       "2020-06-07 08:47:30  18610633  1269382518362509313  \n",
       "2020-06-07 06:42:41  18610633  1269382518362509313  \n",
       "...                       ...                  ...  \n",
       "2021-01-31 10:57:38  18610633  1269389298664701952  \n",
       "2021-02-28 20:19:03  18610633  1269389298664701952  \n",
       "2020-06-07 06:46:12  18610633  1269389298664701952  \n",
       "2022-01-19 18:03:33  18610633  1269389298664701952  \n",
       "2022-01-19 18:03:28  18610633  1269389298664701952  \n",
       "\n",
       "[1297 rows x 4 columns]"
      ]
     },
     "execution_count": 48,
     "metadata": {},
     "output_type": "execute_result"
    }
   ],
   "source": [
    "clean = df_data.set_index('created_at')\n",
    "clean"
   ]
  },
  {
   "cell_type": "code",
   "execution_count": 50,
   "id": "cultural-train",
   "metadata": {},
   "outputs": [
    {
     "data": {
      "text/plain": [
       "_id          object\n",
       "text         object\n",
       "author_id    object\n",
       "seed         object\n",
       "dtype: object"
      ]
     },
     "execution_count": 50,
     "metadata": {},
     "output_type": "execute_result"
    }
   ],
   "source": [
    "clean.dtypes"
   ]
  },
  {
   "cell_type": "code",
   "execution_count": 55,
   "id": "professional-rugby",
   "metadata": {},
   "outputs": [
    {
     "data": {
      "text/plain": [
       "<pandas.core.groupby.generic.DataFrameGroupBy object at 0x7efe1851e640>"
      ]
     },
     "execution_count": 55,
     "metadata": {},
     "output_type": "execute_result"
    }
   ],
   "source": [
    "grouped = clean.groupby(pd.Grouper(freq='D')) \n",
    "grouped"
   ]
  },
  {
   "cell_type": "code",
   "execution_count": 128,
   "id": "complicated-sister",
   "metadata": {},
   "outputs": [
    {
     "data": {
      "text/plain": [
       "created_at\n",
       "2020-06-06     4\n",
       "2020-06-07    15\n",
       "2020-06-08     0\n",
       "2020-06-09     0\n",
       "2020-06-10     2\n",
       "              ..\n",
       "2022-01-15     2\n",
       "2022-01-16     2\n",
       "2022-01-17     1\n",
       "2022-01-18     2\n",
       "2022-01-19     2\n",
       "Freq: D, Length: 593, dtype: int64"
      ]
     },
     "execution_count": 128,
     "metadata": {},
     "output_type": "execute_result"
    }
   ],
   "source": [
    "sze = grouped.size()\n",
    "sze"
   ]
  },
  {
   "cell_type": "code",
   "execution_count": 133,
   "id": "pointed-jordan",
   "metadata": {},
   "outputs": [],
   "source": [
    "sze = sze.replace(0, -1)"
   ]
  },
  {
   "cell_type": "code",
   "execution_count": 134,
   "id": "popular-invasion",
   "metadata": {},
   "outputs": [
    {
     "data": {
      "text/plain": [
       "created_at\n",
       "2020-06-06     4\n",
       "2020-06-07    15\n",
       "2020-06-08    -1\n",
       "2020-06-09    -1\n",
       "2020-06-10     2\n",
       "              ..\n",
       "2022-01-15     2\n",
       "2022-01-16     2\n",
       "2022-01-17     1\n",
       "2022-01-18     2\n",
       "2022-01-19     2\n",
       "Freq: D, Length: 593, dtype: int64"
      ]
     },
     "execution_count": 134,
     "metadata": {},
     "output_type": "execute_result"
    }
   ],
   "source": [
    "sze"
   ]
  },
  {
   "cell_type": "code",
   "execution_count": 191,
   "id": "functioning-athens",
   "metadata": {},
   "outputs": [
    {
     "data": {
      "text/plain": [
       "(<Figure size 1728x864 with 3 Axes>,\n",
       " array([<AxesSubplot:ylabel='2020'>, <AxesSubplot:ylabel='2021'>,\n",
       "        <AxesSubplot:ylabel='2022'>], dtype=object))"
      ]
     },
     "execution_count": 191,
     "metadata": {},
     "output_type": "execute_result"
    },
    {
     "data": {
      "image/png": "[encoded data removed]",
      "text/plain": [
       "<Figure size 432x288 with 1 Axes>"
      ]
     },
     "metadata": {
      "needs_background": "light"
     },
     "output_type": "display_data"
    },
    {
     "data": {
      "image/png": "[encoded data removed]",
      "text/plain": [
       "<Figure size 1728x864 with 3 Axes>"
      ]
     },
     "metadata": {
      "needs_background": "light"
     },
     "output_type": "display_data"
    }
   ],
   "source": [
    "import matplotlib.patches as mpatches\n",
    "red_patch = mpatches.Patch(color='#fff5f0', label='0')\n",
    "red_patch1 = mpatches.Patch(color='#fee0d2', label='1')\n",
    "red_patch2 = mpatches.Patch(color='#fca689', label='5')\n",
    "red_patch3 = mpatches.Patch(color='#fb694a', label='10')\n",
    "red_patch4 = mpatches.Patch(color='#67000d', label='15')\n",
    "l2 = plt.legend(handles=[red_patch, red_patch1,red_patch2, red_patch3, red_patch4],bbox_to_anchor=(-2,-1), borderaxespad=0, fancybox=True, title=\"Number of tweets\", prop={'size': 16})\n",
    "plt.setp(l2.get_title(),fontsize='x-large')\n",
    "calmap.calendarplot(sze,fillcolor='lightgrey',daylabels='MTWTFSS',dayticks=True,\n",
    "                linewidth=2, fig_kws=dict(figsize=(24, 12)))"
   ]
  },
  {
   "cell_type": "code",
   "execution_count": 147,
   "id": "sexual-belize",
   "metadata": {},
   "outputs": [
    {
     "data": {
      "text/plain": [
       "<AxesSubplot:>"
      ]
     },
     "execution_count": 147,
     "metadata": {},
     "output_type": "execute_result"
    },
    {
     "data": {
      "image/png": "[encoded data removed]",
      "text/plain": [
       "<Figure size 432x288 with 1 Axes>"
      ]
     },
     "metadata": {
      "needs_background": "light"
     },
     "output_type": "display_data"
    }
   ],
   "source": [
    "calmap.yearplot(sze, cmap='YlGn', fillcolor='grey',\n",
    "                linewidth=0)"
   ]
  },
  {
   "cell_type": "code",
   "execution_count": 124,
   "id": "honest-diameter",
   "metadata": {},
   "outputs": [],
   "source": [
    "import numpy as np; np.random.seed(sum(map(ord, 'calmap')))\n",
    "import pandas as pd\n",
    "import calmap\n",
    "\n",
    "all_days = pd.date_range('1/15/2014', periods=700, freq='D')\n",
    "days = np.random.choice(all_days, 500)\n",
    "events = pd.Series(np.random.randn(len(days)), index=days)"
   ]
  },
  {
   "cell_type": "code",
   "execution_count": 125,
   "id": "fatty-friday",
   "metadata": {},
   "outputs": [
    {
     "data": {
      "text/plain": [
       "2015-12-11   -0.998662\n",
       "2014-06-17   -0.136021\n",
       "2014-11-04   -0.240216\n",
       "2014-02-07    0.217959\n",
       "2014-05-05   -0.188949\n",
       "                ...   \n",
       "2014-12-12    0.065725\n",
       "2015-05-05    1.582024\n",
       "2015-03-21   -0.347094\n",
       "2015-03-17    0.982412\n",
       "2015-09-28   -0.627963\n",
       "Length: 500, dtype: float64"
      ]
     },
     "execution_count": 125,
     "metadata": {},
     "output_type": "execute_result"
    }
   ],
   "source": [
    "events"
   ]
  },
  {
   "cell_type": "code",
   "execution_count": null,
   "id": "emotional-digit",
   "metadata": {},
   "outputs": [],
   "source": []
  }
 ],
 "metadata": {
  "kernelspec": {
   "display_name": "Python 3",
   "language": "python",
   "name": "python3"
  },
  "language_info": {
   "codemirror_mode": {
    "name": "ipython",
    "version": 3
   },
   "file_extension": ".py",
   "mimetype": "text/x-python",
   "name": "python",
   "nbconvert_exporter": "python",
   "pygments_lexer": "ipython3",
   "version": "3.8.10"
  }
 },
 "nbformat": 4,
 "nbformat_minor": 5
}
