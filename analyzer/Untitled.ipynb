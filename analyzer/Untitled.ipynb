{
 "cells": [
  {
   "cell_type": "code",
   "execution_count": 1,
   "id": "macro-rapid",
   "metadata": {},
   "outputs": [],
   "source": [
    "from pymongo import MongoClient\n",
    "import matplotlib.pyplot as plt\n",
    "import os\n",
    "from sshtunnel import SSHTunnelForwarder\n",
    "import numpy as np\n",
    "import pandas as pd"
   ]
  },
  {
   "cell_type": "code",
   "execution_count": 2,
   "id": "american-batman",
   "metadata": {},
   "outputs": [],
   "source": [
    "MONGO_HOST = \"193.196.55.231\"\n",
    "MONGO_DB = \"twitter_db\"\n",
    "MONGO_USER = \"LOGIN\"\n",
    "MONGO_PASS = \"PASSWORD\"\n",
    "\n",
    "server = SSHTunnelForwarder(\n",
    "    MONGO_HOST,\n",
    "    ssh_username=\"ubuntu\",\n",
    "    ssh_pkey=\"/home/tobias/.ssh/ghost_id_rsa\",\n",
    "    remote_bind_address=('127.0.0.1', 27017)\n",
    ")\n",
    "\n",
    "server.start()\n",
    "\n",
    "client = MongoClient('127.0.0.1', server.local_bind_port) # server.local_bind_port is assigned local port\n",
    "db = client[MONGO_DB]\n"
   ]
  },
  {
   "cell_type": "code",
   "execution_count": 4,
   "id": "returning-train",
   "metadata": {},
   "outputs": [],
   "source": [
    "data = client[\"twitter_db\"].cc_tweets.find({}, {\"text\": 1, \"seed\" : 1})"
   ]
  },
  {
   "cell_type": "code",
   "execution_count": 73,
   "id": "bronze-transition",
   "metadata": {},
   "outputs": [],
   "source": [
    "all = []\n",
    "for ele in data:\n",
    "    if \"followers_crawled\" in ele:\n",
    "        if \"public_metrics\" in ele:\n",
    "            metrics = ele[\"public_metrics\"]\n",
    "            all.append(metrics)"
   ]
  },
  {
   "cell_type": "code",
   "execution_count": 6,
   "id": "solid-mediterranean",
   "metadata": {},
   "outputs": [
    {
     "ename": "TypeError",
     "evalue": "object of type 'Cursor' has no len()",
     "output_type": "error",
     "traceback": [
      "\u001b[0;31m---------------------------------------------------------------------------\u001b[0m",
      "\u001b[0;31mTypeError\u001b[0m                                 Traceback (most recent call last)",
      "\u001b[0;32m<ipython-input-6-c6201f8cef64>\u001b[0m in \u001b[0;36m<module>\u001b[0;34m\u001b[0m\n\u001b[0;32m----> 1\u001b[0;31m \u001b[0mlen\u001b[0m\u001b[0;34m(\u001b[0m\u001b[0mdata\u001b[0m\u001b[0;34m)\u001b[0m\u001b[0;34m\u001b[0m\u001b[0;34m\u001b[0m\u001b[0m\n\u001b[0m",
      "\u001b[0;31mTypeError\u001b[0m: object of type 'Cursor' has no len()"
     ]
    }
   ],
   "source": [
    "len(data)"
   ]
  },
  {
   "cell_type": "code",
   "execution_count": 7,
   "id": "portable-reggae",
   "metadata": {},
   "outputs": [],
   "source": [
    "df_data = pd.DataFrame(list(data))"
   ]
  },
  {
   "cell_type": "code",
   "execution_count": 8,
   "id": "remarkable-collapse",
   "metadata": {},
   "outputs": [
    {
     "data": {
      "text/html": [
       "<div>\n",
       "<style scoped>\n",
       "    .dataframe tbody tr th:only-of-type {\n",
       "        vertical-align: middle;\n",
       "    }\n",
       "\n",
       "    .dataframe tbody tr th {\n",
       "        vertical-align: top;\n",
       "    }\n",
       "\n",
       "    .dataframe thead th {\n",
       "        text-align: right;\n",
       "    }\n",
       "</style>\n",
       "<table border=\"1\" class=\"dataframe\">\n",
       "  <thead>\n",
       "    <tr style=\"text-align: right;\">\n",
       "      <th></th>\n",
       "      <th>_id</th>\n",
       "      <th>text</th>\n",
       "      <th>seed</th>\n",
       "    </tr>\n",
       "  </thead>\n",
       "  <tbody>\n",
       "    <tr>\n",
       "      <th>0</th>\n",
       "      <td>61e70f151d4d4f3c2be3ac11</td>\n",
       "      <td>https://t.co/yJnnKVjume</td>\n",
       "      <td>1327806477923323904</td>\n",
       "    </tr>\n",
       "    <tr>\n",
       "      <th>1</th>\n",
       "      <td>61e70f171d4d4f3c2be3ac12</td>\n",
       "      <td>@bonesbord @ginacarano People die all the time...</td>\n",
       "      <td>1327806477923323904</td>\n",
       "    </tr>\n",
       "    <tr>\n",
       "      <th>2</th>\n",
       "      <td>61e70f171d4d4f3c2be3ac13</td>\n",
       "      <td>@ginacarano Don't let them get you down. The D...</td>\n",
       "      <td>1327806477923323904</td>\n",
       "    </tr>\n",
       "    <tr>\n",
       "      <th>3</th>\n",
       "      <td>61e70f171d4d4f3c2be3ac14</td>\n",
       "      <td>@ginacarano @HaroldBunch5 Except that's a lie....</td>\n",
       "      <td>1327806477923323904</td>\n",
       "    </tr>\n",
       "    <tr>\n",
       "      <th>4</th>\n",
       "      <td>61e70f171d4d4f3c2be3ac15</td>\n",
       "      <td>@E_Husky @hdgators @ginacarano @disneyplus @Di...</td>\n",
       "      <td>1327806477923323904</td>\n",
       "    </tr>\n",
       "    <tr>\n",
       "      <th>...</th>\n",
       "      <td>...</td>\n",
       "      <td>...</td>\n",
       "      <td>...</td>\n",
       "    </tr>\n",
       "    <tr>\n",
       "      <th>550082</th>\n",
       "      <td>61eaaa8672d9a4ec1ce79ec4</td>\n",
       "      <td>Also... https://t.co/GCrUOJR8zj</td>\n",
       "      <td></td>\n",
       "    </tr>\n",
       "    <tr>\n",
       "      <th>550083</th>\n",
       "      <td>61eaaa8672d9a4ec1ce79ec5</td>\n",
       "      <td>Yeah, that thing. https://t.co/1CrCmjSSUx</td>\n",
       "      <td></td>\n",
       "    </tr>\n",
       "    <tr>\n",
       "      <th>550084</th>\n",
       "      <td>61eaaa8672d9a4ec1ce79ec6</td>\n",
       "      <td>Does this dude seriously understand that White...</td>\n",
       "      <td></td>\n",
       "    </tr>\n",
       "    <tr>\n",
       "      <th>550085</th>\n",
       "      <td>61eaaa8672d9a4ec1ce79ec7</td>\n",
       "      <td>@dropoutnation @haralduhlig @TrevonDLogan @Cla...</td>\n",
       "      <td></td>\n",
       "    </tr>\n",
       "    <tr>\n",
       "      <th>550086</th>\n",
       "      <td>61eaaa8672d9a4ec1ce79ec8</td>\n",
       "      <td>Seriously, @haralduhlig out here arguing that ...</td>\n",
       "      <td></td>\n",
       "    </tr>\n",
       "  </tbody>\n",
       "</table>\n",
       "<p>550087 rows × 3 columns</p>\n",
       "</div>"
      ],
      "text/plain": [
       "                             _id  \\\n",
       "0       61e70f151d4d4f3c2be3ac11   \n",
       "1       61e70f171d4d4f3c2be3ac12   \n",
       "2       61e70f171d4d4f3c2be3ac13   \n",
       "3       61e70f171d4d4f3c2be3ac14   \n",
       "4       61e70f171d4d4f3c2be3ac15   \n",
       "...                          ...   \n",
       "550082  61eaaa8672d9a4ec1ce79ec4   \n",
       "550083  61eaaa8672d9a4ec1ce79ec5   \n",
       "550084  61eaaa8672d9a4ec1ce79ec6   \n",
       "550085  61eaaa8672d9a4ec1ce79ec7   \n",
       "550086  61eaaa8672d9a4ec1ce79ec8   \n",
       "\n",
       "                                                     text                 seed  \n",
       "0                                 https://t.co/yJnnKVjume  1327806477923323904  \n",
       "1       @bonesbord @ginacarano People die all the time...  1327806477923323904  \n",
       "2       @ginacarano Don't let them get you down. The D...  1327806477923323904  \n",
       "3       @ginacarano @HaroldBunch5 Except that's a lie....  1327806477923323904  \n",
       "4       @E_Husky @hdgators @ginacarano @disneyplus @Di...  1327806477923323904  \n",
       "...                                                   ...                  ...  \n",
       "550082                    Also... https://t.co/GCrUOJR8zj                       \n",
       "550083          Yeah, that thing. https://t.co/1CrCmjSSUx                       \n",
       "550084  Does this dude seriously understand that White...                       \n",
       "550085  @dropoutnation @haralduhlig @TrevonDLogan @Cla...                       \n",
       "550086  Seriously, @haralduhlig out here arguing that ...                       \n",
       "\n",
       "[550087 rows x 3 columns]"
      ]
     },
     "execution_count": 8,
     "metadata": {},
     "output_type": "execute_result"
    }
   ],
   "source": [
    "df_data"
   ]
  },
  {
   "cell_type": "code",
   "execution_count": 12,
   "id": "cordless-mercury",
   "metadata": {},
   "outputs": [
    {
     "name": "stdout",
     "output_type": "stream",
     "text": [
      "/usr/lib/python3/dist-packages/secretstorage/dhcrypto.py:15: CryptographyDeprecationWarning: int_from_bytes is deprecated, use int.from_bytes instead\n",
      "  from cryptography.utils import int_from_bytes\n",
      "/usr/lib/python3/dist-packages/secretstorage/util.py:19: CryptographyDeprecationWarning: int_from_bytes is deprecated, use int.from_bytes instead\n",
      "  from cryptography.utils import int_from_bytes\n",
      "Defaulting to user installation because normal site-packages is not writeable\n",
      "Requirement already satisfied: nltk in /home/tobias/.local/lib/python3.8/site-packages (3.6.7)\n",
      "Requirement already satisfied: tqdm in /home/tobias/.local/lib/python3.8/site-packages (from nltk) (4.62.3)\n",
      "Requirement already satisfied: regex>=2021.8.3 in /home/tobias/.local/lib/python3.8/site-packages (from nltk) (2022.1.18)\n",
      "Requirement already satisfied: joblib in /home/tobias/.local/lib/python3.8/site-packages (from nltk) (1.1.0)\n",
      "Requirement already satisfied: click in /usr/lib/python3/dist-packages (from nltk) (7.0)\n",
      "\u001b[33mWARNING: You are using pip version 20.3.3; however, version 21.3.1 is available.\n",
      "You should consider upgrading via the '/usr/bin/python3.8 -m pip install --upgrade pip' command.\u001b[0m\n"
     ]
    },
    {
     "name": "stderr",
     "output_type": "stream",
     "text": [
      "[nltk_data] Downloading package vader_lexicon to\n",
      "[nltk_data]     /home/tobias/nltk_data...\n"
     ]
    },
    {
     "data": {
      "text/plain": [
       "True"
      ]
     },
     "execution_count": 12,
     "metadata": {},
     "output_type": "execute_result"
    }
   ],
   "source": [
    "!pip install nltk\n",
    "import nltk\n",
    "nltk.download('vader_lexicon')"
   ]
  },
  {
   "cell_type": "code",
   "execution_count": 13,
   "id": "demonstrated-brand",
   "metadata": {},
   "outputs": [],
   "source": [
    "from nltk.sentiment import SentimentIntensityAnalyzer\n",
    "import operator\n",
    "sia = SentimentIntensityAnalyzer()\n"
   ]
  },
  {
   "cell_type": "code",
   "execution_count": 15,
   "id": "vital-vulnerability",
   "metadata": {},
   "outputs": [],
   "source": [
    "df_data[\"sentiment_score\"] = df_data[\"text\"].apply(lambda x: sia.polarity_scores(x)[\"compound\"])\n",
    "df_data[\"sentiment\"] = np.select([df_data[\"sentiment_score\"] < 0, df_data[\"sentiment_score\"] == 0, df_data[\"sentiment_score\"] > 0],\n",
    "                           ['neg', 'neu', 'pos'])"
   ]
  },
  {
   "cell_type": "code",
   "execution_count": 28,
   "id": "clinical-stand",
   "metadata": {},
   "outputs": [
    {
     "data": {
      "text/html": [
       "<div>\n",
       "<style scoped>\n",
       "    .dataframe tbody tr th:only-of-type {\n",
       "        vertical-align: middle;\n",
       "    }\n",
       "\n",
       "    .dataframe tbody tr th {\n",
       "        vertical-align: top;\n",
       "    }\n",
       "\n",
       "    .dataframe thead th {\n",
       "        text-align: right;\n",
       "    }\n",
       "</style>\n",
       "<table border=\"1\" class=\"dataframe\">\n",
       "  <thead>\n",
       "    <tr style=\"text-align: right;\">\n",
       "      <th></th>\n",
       "      <th>_id</th>\n",
       "      <th>text</th>\n",
       "      <th>seed</th>\n",
       "      <th>sentiment_score</th>\n",
       "      <th>sentiment</th>\n",
       "    </tr>\n",
       "  </thead>\n",
       "  <tbody>\n",
       "    <tr>\n",
       "      <th>0</th>\n",
       "      <td>61e70f151d4d4f3c2be3ac11</td>\n",
       "      <td>https://t.co/yJnnKVjume</td>\n",
       "      <td>1327806477923323904</td>\n",
       "      <td>0.0000</td>\n",
       "      <td>neu</td>\n",
       "    </tr>\n",
       "    <tr>\n",
       "      <th>1</th>\n",
       "      <td>61e70f171d4d4f3c2be3ac12</td>\n",
       "      <td>@bonesbord @ginacarano People die all the time...</td>\n",
       "      <td>1327806477923323904</td>\n",
       "      <td>-0.8793</td>\n",
       "      <td>neg</td>\n",
       "    </tr>\n",
       "    <tr>\n",
       "      <th>2</th>\n",
       "      <td>61e70f171d4d4f3c2be3ac13</td>\n",
       "      <td>@ginacarano Don't let them get you down. The D...</td>\n",
       "      <td>1327806477923323904</td>\n",
       "      <td>-0.0516</td>\n",
       "      <td>neg</td>\n",
       "    </tr>\n",
       "    <tr>\n",
       "      <th>3</th>\n",
       "      <td>61e70f171d4d4f3c2be3ac14</td>\n",
       "      <td>@ginacarano @HaroldBunch5 Except that's a lie....</td>\n",
       "      <td>1327806477923323904</td>\n",
       "      <td>0.0000</td>\n",
       "      <td>neu</td>\n",
       "    </tr>\n",
       "    <tr>\n",
       "      <th>4</th>\n",
       "      <td>61e70f171d4d4f3c2be3ac15</td>\n",
       "      <td>@E_Husky @hdgators @ginacarano @disneyplus @Di...</td>\n",
       "      <td>1327806477923323904</td>\n",
       "      <td>0.2550</td>\n",
       "      <td>pos</td>\n",
       "    </tr>\n",
       "    <tr>\n",
       "      <th>...</th>\n",
       "      <td>...</td>\n",
       "      <td>...</td>\n",
       "      <td>...</td>\n",
       "      <td>...</td>\n",
       "      <td>...</td>\n",
       "    </tr>\n",
       "    <tr>\n",
       "      <th>550082</th>\n",
       "      <td>61eaaa8672d9a4ec1ce79ec4</td>\n",
       "      <td>Also... https://t.co/GCrUOJR8zj</td>\n",
       "      <td></td>\n",
       "      <td>0.0000</td>\n",
       "      <td>neu</td>\n",
       "    </tr>\n",
       "    <tr>\n",
       "      <th>550083</th>\n",
       "      <td>61eaaa8672d9a4ec1ce79ec5</td>\n",
       "      <td>Yeah, that thing. https://t.co/1CrCmjSSUx</td>\n",
       "      <td></td>\n",
       "      <td>0.2960</td>\n",
       "      <td>pos</td>\n",
       "    </tr>\n",
       "    <tr>\n",
       "      <th>550084</th>\n",
       "      <td>61eaaa8672d9a4ec1ce79ec6</td>\n",
       "      <td>Does this dude seriously understand that White...</td>\n",
       "      <td></td>\n",
       "      <td>0.2023</td>\n",
       "      <td>pos</td>\n",
       "    </tr>\n",
       "    <tr>\n",
       "      <th>550085</th>\n",
       "      <td>61eaaa8672d9a4ec1ce79ec7</td>\n",
       "      <td>@dropoutnation @haralduhlig @TrevonDLogan @Cla...</td>\n",
       "      <td></td>\n",
       "      <td>-0.6412</td>\n",
       "      <td>neg</td>\n",
       "    </tr>\n",
       "    <tr>\n",
       "      <th>550086</th>\n",
       "      <td>61eaaa8672d9a4ec1ce79ec8</td>\n",
       "      <td>Seriously, @haralduhlig out here arguing that ...</td>\n",
       "      <td></td>\n",
       "      <td>-0.8720</td>\n",
       "      <td>neg</td>\n",
       "    </tr>\n",
       "  </tbody>\n",
       "</table>\n",
       "<p>550087 rows × 5 columns</p>\n",
       "</div>"
      ],
      "text/plain": [
       "                             _id  \\\n",
       "0       61e70f151d4d4f3c2be3ac11   \n",
       "1       61e70f171d4d4f3c2be3ac12   \n",
       "2       61e70f171d4d4f3c2be3ac13   \n",
       "3       61e70f171d4d4f3c2be3ac14   \n",
       "4       61e70f171d4d4f3c2be3ac15   \n",
       "...                          ...   \n",
       "550082  61eaaa8672d9a4ec1ce79ec4   \n",
       "550083  61eaaa8672d9a4ec1ce79ec5   \n",
       "550084  61eaaa8672d9a4ec1ce79ec6   \n",
       "550085  61eaaa8672d9a4ec1ce79ec7   \n",
       "550086  61eaaa8672d9a4ec1ce79ec8   \n",
       "\n",
       "                                                     text  \\\n",
       "0                                 https://t.co/yJnnKVjume   \n",
       "1       @bonesbord @ginacarano People die all the time...   \n",
       "2       @ginacarano Don't let them get you down. The D...   \n",
       "3       @ginacarano @HaroldBunch5 Except that's a lie....   \n",
       "4       @E_Husky @hdgators @ginacarano @disneyplus @Di...   \n",
       "...                                                   ...   \n",
       "550082                    Also... https://t.co/GCrUOJR8zj   \n",
       "550083          Yeah, that thing. https://t.co/1CrCmjSSUx   \n",
       "550084  Does this dude seriously understand that White...   \n",
       "550085  @dropoutnation @haralduhlig @TrevonDLogan @Cla...   \n",
       "550086  Seriously, @haralduhlig out here arguing that ...   \n",
       "\n",
       "                       seed  sentiment_score sentiment  \n",
       "0       1327806477923323904           0.0000       neu  \n",
       "1       1327806477923323904          -0.8793       neg  \n",
       "2       1327806477923323904          -0.0516       neg  \n",
       "3       1327806477923323904           0.0000       neu  \n",
       "4       1327806477923323904           0.2550       pos  \n",
       "...                     ...              ...       ...  \n",
       "550082                                0.0000       neu  \n",
       "550083                                0.2960       pos  \n",
       "550084                                0.2023       pos  \n",
       "550085                               -0.6412       neg  \n",
       "550086                               -0.8720       neg  \n",
       "\n",
       "[550087 rows x 5 columns]"
      ]
     },
     "execution_count": 28,
     "metadata": {},
     "output_type": "execute_result"
    }
   ],
   "source": [
    "df_data"
   ]
  },
  {
   "cell_type": "code",
   "execution_count": 37,
   "id": "adolescent-portal",
   "metadata": {},
   "outputs": [
    {
     "name": "stdout",
     "output_type": "stream",
     "text": [
      "/home/tobias/Projects/MasterProject/cancel-culture-crawler/analyzer\n"
     ]
    }
   ],
   "source": [
    "import os\n",
    "print(os.getcwd())"
   ]
  },
  {
   "cell_type": "code",
   "execution_count": 48,
   "id": "lined-baker",
   "metadata": {},
   "outputs": [
    {
     "data": {
      "image/png": "[encoded data removed]",
      "text/plain": [
       "<Figure size 432x288 with 1 Axes>"
      ]
     },
     "metadata": {
      "needs_background": "light"
     },
     "output_type": "display_data"
    }
   ],
   "source": [
    "ax = df_data[\"sentiment_score\"].hist()  # s is an instance of Series\n",
    "ax.set_xlabel(\"Sentiment score\")\n",
    "ax.set_ylabel(\"Number of tweets\")\n",
    "fig.suptitle(\"Histogram of tweets per sentiment score\") \n",
    "fig = ax.get_figure()\n",
    "fig.savefig('sentiment2.png', dpi=500)\n"
   ]
  },
  {
   "cell_type": "code",
   "execution_count": 76,
   "id": "heavy-layout",
   "metadata": {},
   "outputs": [
    {
     "data": {
      "text/html": [
       "<div>\n",
       "<style scoped>\n",
       "    .dataframe tbody tr th:only-of-type {\n",
       "        vertical-align: middle;\n",
       "    }\n",
       "\n",
       "    .dataframe tbody tr th {\n",
       "        vertical-align: top;\n",
       "    }\n",
       "\n",
       "    .dataframe thead th {\n",
       "        text-align: right;\n",
       "    }\n",
       "</style>\n",
       "<table border=\"1\" class=\"dataframe\">\n",
       "  <thead>\n",
       "    <tr style=\"text-align: right;\">\n",
       "      <th></th>\n",
       "      <th>tweet_count</th>\n",
       "    </tr>\n",
       "  </thead>\n",
       "  <tbody>\n",
       "    <tr>\n",
       "      <th>6</th>\n",
       "      <td>22</td>\n",
       "    </tr>\n",
       "    <tr>\n",
       "      <th>1</th>\n",
       "      <td>22</td>\n",
       "    </tr>\n",
       "    <tr>\n",
       "      <th>5</th>\n",
       "      <td>21</td>\n",
       "    </tr>\n",
       "    <tr>\n",
       "      <th>3</th>\n",
       "      <td>19</td>\n",
       "    </tr>\n",
       "    <tr>\n",
       "      <th>7</th>\n",
       "      <td>15</td>\n",
       "    </tr>\n",
       "    <tr>\n",
       "      <th>...</th>\n",
       "      <td>...</td>\n",
       "    </tr>\n",
       "    <tr>\n",
       "      <th>7098</th>\n",
       "      <td>1</td>\n",
       "    </tr>\n",
       "    <tr>\n",
       "      <th>9145</th>\n",
       "      <td>1</td>\n",
       "    </tr>\n",
       "    <tr>\n",
       "      <th>949</th>\n",
       "      <td>1</td>\n",
       "    </tr>\n",
       "    <tr>\n",
       "      <th>5043</th>\n",
       "      <td>1</td>\n",
       "    </tr>\n",
       "    <tr>\n",
       "      <th>8174</th>\n",
       "      <td>1</td>\n",
       "    </tr>\n",
       "  </tbody>\n",
       "</table>\n",
       "<p>5600 rows × 1 columns</p>\n",
       "</div>"
      ],
      "text/plain": [
       "      tweet_count\n",
       "6              22\n",
       "1              22\n",
       "5              21\n",
       "3              19\n",
       "7              15\n",
       "...           ...\n",
       "7098            1\n",
       "9145            1\n",
       "949             1\n",
       "5043            1\n",
       "8174            1\n",
       "\n",
       "[5600 rows x 1 columns]"
      ]
     },
     "execution_count": 76,
     "metadata": {},
     "output_type": "execute_result"
    }
   ],
   "source": [
    "df_data.apply(pd.value_counts)"
   ]
  },
  {
   "cell_type": "code",
   "execution_count": 64,
   "id": "accredited-asbestos",
   "metadata": {},
   "outputs": [],
   "source": [
    "gb = df_data.groupby('tweet_count')"
   ]
  },
  {
   "cell_type": "code",
   "execution_count": 65,
   "id": "responsible-rogers",
   "metadata": {},
   "outputs": [
    {
     "name": "stdout",
     "output_type": "stream",
     "text": [
      "(1,         tweet_count\n",
      "113               1\n",
      "168               1\n",
      "606               1\n",
      "942               1\n",
      "977               1\n",
      "...             ...\n",
      "129466            1\n",
      "129652            1\n",
      "129889            1\n",
      "130379            1\n",
      "133967            1\n",
      "\n",
      "[222 rows x 1 columns])\n"
     ]
    }
   ],
   "source": [
    "for el in gb:\n",
    "    print(el)\n",
    "    break"
   ]
  },
  {
   "cell_type": "code",
   "execution_count": 61,
   "id": "cardiovascular-melissa",
   "metadata": {},
   "outputs": [
    {
     "data": {
      "text/plain": [
       "tweet_count    1\n",
       "dtype: int64"
      ]
     },
     "execution_count": 61,
     "metadata": {},
     "output_type": "execute_result"
    }
   ],
   "source": [
    "np.min(df_data)"
   ]
  },
  {
   "cell_type": "code",
   "execution_count": 38,
   "id": "peripheral-nitrogen",
   "metadata": {},
   "outputs": [
    {
     "data": {
      "text/html": [
       "<div>\n",
       "<style scoped>\n",
       "    .dataframe tbody tr th:only-of-type {\n",
       "        vertical-align: middle;\n",
       "    }\n",
       "\n",
       "    .dataframe tbody tr th {\n",
       "        vertical-align: top;\n",
       "    }\n",
       "\n",
       "    .dataframe thead th {\n",
       "        text-align: right;\n",
       "    }\n",
       "</style>\n",
       "<table border=\"1\" class=\"dataframe\">\n",
       "  <thead>\n",
       "    <tr style=\"text-align: right;\">\n",
       "      <th></th>\n",
       "      <th>_id</th>\n",
       "      <th>seed</th>\n",
       "    </tr>\n",
       "  </thead>\n",
       "  <tbody>\n",
       "    <tr>\n",
       "      <th>0</th>\n",
       "      <td>61e70f151d4d4f3c2be3ac11</td>\n",
       "      <td>1327806477923323904</td>\n",
       "    </tr>\n",
       "    <tr>\n",
       "      <th>1</th>\n",
       "      <td>61e70f171d4d4f3c2be3ac12</td>\n",
       "      <td>1327806477923323904</td>\n",
       "    </tr>\n",
       "    <tr>\n",
       "      <th>2</th>\n",
       "      <td>61e70f171d4d4f3c2be3ac13</td>\n",
       "      <td>1327806477923323904</td>\n",
       "    </tr>\n",
       "    <tr>\n",
       "      <th>3</th>\n",
       "      <td>61e70f171d4d4f3c2be3ac14</td>\n",
       "      <td>1327806477923323904</td>\n",
       "    </tr>\n",
       "    <tr>\n",
       "      <th>4</th>\n",
       "      <td>61e70f171d4d4f3c2be3ac15</td>\n",
       "      <td>1327806477923323904</td>\n",
       "    </tr>\n",
       "    <tr>\n",
       "      <th>...</th>\n",
       "      <td>...</td>\n",
       "      <td>...</td>\n",
       "    </tr>\n",
       "    <tr>\n",
       "      <th>550082</th>\n",
       "      <td>61eaaa8672d9a4ec1ce79ec4</td>\n",
       "      <td></td>\n",
       "    </tr>\n",
       "    <tr>\n",
       "      <th>550083</th>\n",
       "      <td>61eaaa8672d9a4ec1ce79ec5</td>\n",
       "      <td></td>\n",
       "    </tr>\n",
       "    <tr>\n",
       "      <th>550084</th>\n",
       "      <td>61eaaa8672d9a4ec1ce79ec6</td>\n",
       "      <td></td>\n",
       "    </tr>\n",
       "    <tr>\n",
       "      <th>550085</th>\n",
       "      <td>61eaaa8672d9a4ec1ce79ec7</td>\n",
       "      <td></td>\n",
       "    </tr>\n",
       "    <tr>\n",
       "      <th>550086</th>\n",
       "      <td>61eaaa8672d9a4ec1ce79ec8</td>\n",
       "      <td></td>\n",
       "    </tr>\n",
       "  </tbody>\n",
       "</table>\n",
       "<p>550087 rows × 2 columns</p>\n",
       "</div>"
      ],
      "text/plain": [
       "                             _id                 seed\n",
       "0       61e70f151d4d4f3c2be3ac11  1327806477923323904\n",
       "1       61e70f171d4d4f3c2be3ac12  1327806477923323904\n",
       "2       61e70f171d4d4f3c2be3ac13  1327806477923323904\n",
       "3       61e70f171d4d4f3c2be3ac14  1327806477923323904\n",
       "4       61e70f171d4d4f3c2be3ac15  1327806477923323904\n",
       "...                          ...                  ...\n",
       "550082  61eaaa8672d9a4ec1ce79ec4                     \n",
       "550083  61eaaa8672d9a4ec1ce79ec5                     \n",
       "550084  61eaaa8672d9a4ec1ce79ec6                     \n",
       "550085  61eaaa8672d9a4ec1ce79ec7                     \n",
       "550086  61eaaa8672d9a4ec1ce79ec8                     \n",
       "\n",
       "[550087 rows x 2 columns]"
      ]
     },
     "execution_count": 38,
     "metadata": {},
     "output_type": "execute_result"
    }
   ],
   "source": [
    "data = client[\"twitter_db_DE\"].cc_tweets.find({}, {\"seed\": 1})\n",
    "df = pd.DataFrame(list(data))\n",
    "df"
   ]
  },
  {
   "cell_type": "code",
   "execution_count": 122,
   "id": "selective-drink",
   "metadata": {},
   "outputs": [],
   "source": [
    "db = client[\"twitter_db\"]\n",
    "data = db.cc_users.find({}, {\"public_metrics.tweet_count\": 1})\n"
   ]
  },
  {
   "cell_type": "code",
   "execution_count": 123,
   "id": "lesbian-verification",
   "metadata": {},
   "outputs": [],
   "source": [
    "counts2 = []\n",
    "for el in data:\n",
    "    if \"public_metrics\" in el:\n",
    "        counts2.append(el[\"public_metrics\"][\"tweet_count\"])"
   ]
  },
  {
   "cell_type": "code",
   "execution_count": 127,
   "id": "directed-fusion",
   "metadata": {},
   "outputs": [],
   "source": [
    "lll = [*counts, *counts2]"
   ]
  },
  {
   "cell_type": "code",
   "execution_count": 134,
   "id": "mighty-magnitude",
   "metadata": {},
   "outputs": [
    {
     "data": {
      "text/plain": [
       "3134359285"
      ]
     },
     "execution_count": 134,
     "metadata": {},
     "output_type": "execute_result"
    }
   ],
   "source": [
    "np.sum(lll)"
   ]
  },
  {
   "cell_type": "code",
   "execution_count": 140,
   "id": "hired-runner",
   "metadata": {},
   "outputs": [
    {
     "name": "stdout",
     "output_type": "stream",
     "text": [
      "359952839\n"
     ]
    }
   ],
   "source": [
    "print(sum(sorted(lll, reverse=True)[:1000]))"
   ]
  },
  {
   "cell_type": "code",
   "execution_count": 39,
   "id": "declared-ticket",
   "metadata": {},
   "outputs": [
    {
     "data": {
      "text/plain": [
       "seed\n",
       "                        16650\n",
       "1265998625836019712      3710\n",
       "1269382518362509313    192076\n",
       "1269389298664701952    323254\n",
       "1327806477923323904     14397\n",
       "dtype: int64"
      ]
     },
     "execution_count": 39,
     "metadata": {},
     "output_type": "execute_result"
    }
   ],
   "source": [
    "lde = df.groupby(['seed']).size()\n",
    "lde"
   ]
  },
  {
   "cell_type": "code",
   "execution_count": 40,
   "id": "inappropriate-barcelona",
   "metadata": {},
   "outputs": [],
   "source": [
    "for el in lde:\n",
    "    cleaned.append(el)"
   ]
  },
  {
   "cell_type": "code",
   "execution_count": 34,
   "id": "framed-police",
   "metadata": {},
   "outputs": [],
   "source": [
    "l = df.groupby(['seed']).size()"
   ]
  },
  {
   "cell_type": "code",
   "execution_count": 35,
   "id": "bigger-destiny",
   "metadata": {},
   "outputs": [
    {
     "name": "stdout",
     "output_type": "stream",
     "text": [
      "seed\n",
      "1148654208398319622     8082\n",
      "1466829037645582341    14066\n",
      "dtype: int64\n"
     ]
    }
   ],
   "source": [
    "print(l)"
   ]
  },
  {
   "cell_type": "code",
   "execution_count": 36,
   "id": "velvet-gothic",
   "metadata": {},
   "outputs": [],
   "source": [
    "cleaned = list(l)"
   ]
  },
  {
   "cell_type": "code",
   "execution_count": 41,
   "id": "foreign-resort",
   "metadata": {},
   "outputs": [
    {
     "data": {
      "text/plain": [
       "[8082, 14066, 16650, 3710, 192076, 323254, 14397]"
      ]
     },
     "execution_count": 41,
     "metadata": {},
     "output_type": "execute_result"
    }
   ],
   "source": [
    "cleaned"
   ]
  },
  {
   "cell_type": "code",
   "execution_count": 42,
   "id": "boring-lawyer",
   "metadata": {},
   "outputs": [
    {
     "data": {
      "text/plain": [
       "14397.0"
      ]
     },
     "execution_count": 42,
     "metadata": {},
     "output_type": "execute_result"
    }
   ],
   "source": [
    "np.median(cleaned)"
   ]
  },
  {
   "cell_type": "code",
   "execution_count": 62,
   "id": "utility-patch",
   "metadata": {},
   "outputs": [],
   "source": [
    "users = [0, 66903, 14000000, 14000000, 985121, 85892, 58165]"
   ]
  },
  {
   "cell_type": "code",
   "execution_count": 63,
   "id": "demonstrated-blogger",
   "metadata": {},
   "outputs": [],
   "source": [
    "d = {}\n",
    "for i, el in enumerate(cleaned):\n",
    "    d[el] = users[i]"
   ]
  },
  {
   "cell_type": "code",
   "execution_count": 64,
   "id": "republican-calcium",
   "metadata": {},
   "outputs": [
    {
     "name": "stdout",
     "output_type": "stream",
     "text": [
      "{16650: 0, 3710: 66903, 192076: 14000000, 323254: 14000000, 14397: 985121, 8082: 85892, 14066: 58165}\n"
     ]
    }
   ],
   "source": [
    "print(d)"
   ]
  },
  {
   "cell_type": "code",
   "execution_count": 67,
   "id": "breathing-mitchell",
   "metadata": {},
   "outputs": [
    {
     "data": {
      "text/plain": [
       "{3710: 66903,\n",
       " 192076: 14000000,\n",
       " 323254: 14000000,\n",
       " 14397: 985121,\n",
       " 8082: 85892,\n",
       " 14066: 58165}"
      ]
     },
     "execution_count": 67,
     "metadata": {},
     "output_type": "execute_result"
    }
   ],
   "source": [
    "del d[16650]\n",
    "d"
   ]
  },
  {
   "cell_type": "code",
   "execution_count": 92,
   "id": "criminal-hindu",
   "metadata": {},
   "outputs": [
    {
     "data": {
      "image/png": "[encoded data removed]",
      "text/plain": [
       "<Figure size 432x288 with 1 Axes>"
      ]
     },
     "metadata": {
      "needs_background": "light"
     },
     "output_type": "display_data"
    }
   ],
   "source": [
    "lists = sorted(d.items()) \n",
    "x, y = zip(*lists) # unpack a list of pairs into two tuples\n",
    "\n",
    "plt.plot(x[:-2], y[:-2])\n",
    "plt.show()\n"
   ]
  },
  {
   "cell_type": "code",
   "execution_count": 85,
   "id": "advisory-summit",
   "metadata": {},
   "outputs": [
    {
     "name": "stdout",
     "output_type": "stream",
     "text": [
      "(3710, 8082, 14066, 14397, 192076, 323254)\n",
      "(66903, 85892, 58165, 985121, 14000000, 14000000)\n"
     ]
    }
   ],
   "source": [
    "from sklearn import preprocessing\n",
    "print(x)\n",
    "print(y)\n",
    "normalized = preprocessing.normalize([x])\n",
    "normalized2 = preprocessing.normalize([y])"
   ]
  },
  {
   "cell_type": "code",
   "execution_count": 88,
   "id": "guided-litigation",
   "metadata": {},
   "outputs": [
    {
     "name": "stdout",
     "output_type": "stream",
     "text": [
      "[[0.00337487 0.00433276 0.00293409 0.04969369 0.70621943 0.70621943]]\n"
     ]
    }
   ],
   "source": [
    "print(normalized2)"
   ]
  },
  {
   "cell_type": "code",
   "execution_count": 90,
   "id": "unknown-competition",
   "metadata": {},
   "outputs": [
    {
     "data": {
      "text/plain": [
       "[<matplotlib.lines.Line2D at 0x7fed506ba3d0>]"
      ]
     },
     "execution_count": 90,
     "metadata": {},
     "output_type": "execute_result"
    },
    {
     "data": {
      "image/png": "[encoded data removed]",
      "text/plain": [
       "<Figure size 432x288 with 1 Axes>"
      ]
     },
     "metadata": {
      "needs_background": "light"
     },
     "output_type": "display_data"
    }
   ],
   "source": [
    "plt.plot(normalized[0], normalized2[0])"
   ]
  },
  {
   "cell_type": "code",
   "execution_count": null,
   "id": "alien-dominant",
   "metadata": {},
   "outputs": [],
   "source": []
  }
 ],
 "metadata": {
  "kernelspec": {
   "display_name": "Python 3",
   "language": "python",
   "name": "python3"
  },
  "language_info": {
   "codemirror_mode": {
    "name": "ipython",
    "version": 3
   },
   "file_extension": ".py",
   "mimetype": "text/x-python",
   "name": "python",
   "nbconvert_exporter": "python",
   "pygments_lexer": "ipython3",
   "version": "3.8.10"
  }
 },
 "nbformat": 4,
 "nbformat_minor": 5
}
